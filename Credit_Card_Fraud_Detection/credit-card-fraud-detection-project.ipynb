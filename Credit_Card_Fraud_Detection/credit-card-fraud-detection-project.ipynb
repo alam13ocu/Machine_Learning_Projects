{
 "cells": [
  {
   "cell_type": "markdown",
   "metadata": {},
   "source": [
    "# Objectives"
   ]
  },
  {
   "cell_type": "markdown",
   "metadata": {},
   "source": [
    "Perform exploratory  Data Analysis and determine Training Labels\n",
    "\n",
    "*   Create a column for the class\n",
    "*   Standardize the data\n",
    "*   Split into training data and test data\n",
    "\n",
    "\\-Find best Hyperparameter for **Logistic Regression**, **Decision Trees**, **K-Nearest-neighbours (KNN)**, **Support Vector Machine (SVM)**, **Random Forest**, and \n",
    "\n",
    "*   Find the method performs best using test data\n"
   ]
  },
  {
   "cell_type": "markdown",
   "metadata": {},
   "source": [
    "## Import Libraries and Define Auxiliary Functions"
   ]
  },
  {
   "cell_type": "markdown",
   "metadata": {},
   "source": [
    "#### We will import the following libraries for this project"
   ]
  },
  {
   "cell_type": "code",
   "execution_count": 1,
   "metadata": {
    "execution": {
     "iopub.execute_input": "2021-11-27T02:36:12.082592Z",
     "iopub.status.busy": "2021-11-27T02:36:12.081627Z",
     "iopub.status.idle": "2021-11-27T02:36:13.539373Z",
     "shell.execute_reply": "2021-11-27T02:36:13.538233Z",
     "shell.execute_reply.started": "2021-11-27T02:36:12.082526Z"
    }
   },
   "outputs": [],
   "source": [
    "# Pandas is a software library written for the Python programming language for data manipulation and analysis.\n",
    "import pandas as pd\n",
    "# NumPy is a library for the Python programming language, adding support for large, multi-dimensional arrays and matrices, along with a large collection of high-level mathematical functions to operate on these arrays\n",
    "import numpy as np\n",
    "# Matplotlib is a plotting library for python and pyplot gives us a MatLab like plotting framework. We will use this in our plotter function to plot data.\n",
    "import matplotlib.pyplot as plt\n",
    "#Seaborn is a Python data visualization library based on matplotlib. It provides a high-level interface for drawing attractive and informative statistical graphics\n",
    "import seaborn as sns\n",
    "# Preprocessing allows us to standarsize our data\n",
    "from sklearn import preprocessing\n",
    "# Allows us to split our data into training and testing data\n",
    "from sklearn.model_selection import train_test_split\n",
    "# Allows us to test parameters of classification algorithms and find the best one\n",
    "#from sklearn.model_selection import GridSearchCV  ## We did not use\n",
    "# Allows us to test accuracy by jaccard_score\n",
    "from sklearn.metrics import jaccard_score\n",
    "# Allows us to see the confusion matrix\n",
    "from sklearn.metrics import ConfusionMatrixDisplay\n",
    "from sklearn.metrics import confusion_matrix\n",
    "# Allows us to see the classification_report or F1 Score\n",
    "from sklearn.metrics import classification_report\n",
    "# Allows us to see the log loss score\n",
    "from sklearn.metrics import log_loss\n",
    "# Logistic Regression classification algorithm\n",
    "from sklearn.linear_model import LogisticRegression\n",
    "# Support Vector Machine classification algorithm\n",
    "from sklearn.svm import SVC\n",
    "from sklearn import svm\n",
    "# Decision Tree classification algorithm\n",
    "from sklearn.tree import DecisionTreeClassifier\n",
    "# K Nearest Neighbors classification algorithm\n",
    "from sklearn.neighbors import KNeighborsClassifier\n",
    "# Import Library for Random Forest\n",
    "from sklearn.ensemble import RandomForestClassifier"
   ]
  },
  {
   "cell_type": "markdown",
   "metadata": {},
   "source": [
    "## Load the dataframe"
   ]
  },
  {
   "cell_type": "markdown",
   "metadata": {},
   "source": [
    "#### Load the data"
   ]
  },
  {
   "cell_type": "code",
   "execution_count": 2,
   "metadata": {
    "execution": {
     "iopub.execute_input": "2021-11-27T02:36:22.954509Z",
     "iopub.status.busy": "2021-11-27T02:36:22.953951Z",
     "iopub.status.idle": "2021-11-27T02:36:25.417784Z",
     "shell.execute_reply": "2021-11-27T02:36:25.416736Z",
     "shell.execute_reply.started": "2021-11-27T02:36:22.954457Z"
    }
   },
   "outputs": [],
   "source": [
    "data=pd.read_csv(\"/Users/ashraful/Dropbox/deep_learning_project/creditcard_fraud_detection/creditcard.csv\")"
   ]
  },
  {
   "cell_type": "markdown",
   "metadata": {},
   "source": [
    "## Explore the dataset"
   ]
  },
  {
   "cell_type": "markdown",
   "metadata": {},
   "source": [
    "#### Shape of the data, head and tail"
   ]
  },
  {
   "cell_type": "code",
   "execution_count": 3,
   "metadata": {
    "execution": {
     "iopub.execute_input": "2021-11-27T02:36:34.139134Z",
     "iopub.status.busy": "2021-11-27T02:36:34.138112Z",
     "iopub.status.idle": "2021-11-27T02:36:34.175383Z",
     "shell.execute_reply": "2021-11-27T02:36:34.174266Z",
     "shell.execute_reply.started": "2021-11-27T02:36:34.139083Z"
    }
   },
   "outputs": [
    {
     "name": "stdout",
     "output_type": "stream",
     "text": [
      "1. DATA SHAPE:  (284807, 31)\n",
      "2. DATA HEAD: \n",
      "    Time        V1        V2        V3        V4        V5        V6        V7  \\\n",
      "0   0.0 -1.359807 -0.072781  2.536347  1.378155 -0.338321  0.462388  0.239599   \n",
      "1   0.0  1.191857  0.266151  0.166480  0.448154  0.060018 -0.082361 -0.078803   \n",
      "2   1.0 -1.358354 -1.340163  1.773209  0.379780 -0.503198  1.800499  0.791461   \n",
      "3   1.0 -0.966272 -0.185226  1.792993 -0.863291 -0.010309  1.247203  0.237609   \n",
      "4   2.0 -1.158233  0.877737  1.548718  0.403034 -0.407193  0.095921  0.592941   \n",
      "\n",
      "         V8        V9  ...       V21       V22       V23       V24       V25  \\\n",
      "0  0.098698  0.363787  ... -0.018307  0.277838 -0.110474  0.066928  0.128539   \n",
      "1  0.085102 -0.255425  ... -0.225775 -0.638672  0.101288 -0.339846  0.167170   \n",
      "2  0.247676 -1.514654  ...  0.247998  0.771679  0.909412 -0.689281 -0.327642   \n",
      "3  0.377436 -1.387024  ... -0.108300  0.005274 -0.190321 -1.175575  0.647376   \n",
      "4 -0.270533  0.817739  ... -0.009431  0.798278 -0.137458  0.141267 -0.206010   \n",
      "\n",
      "        V26       V27       V28  Amount  Class  \n",
      "0 -0.189115  0.133558 -0.021053  149.62      0  \n",
      "1  0.125895 -0.008983  0.014724    2.69      0  \n",
      "2 -0.139097 -0.055353 -0.059752  378.66      0  \n",
      "3 -0.221929  0.062723  0.061458  123.50      0  \n",
      "4  0.502292  0.219422  0.215153   69.99      0  \n",
      "\n",
      "[5 rows x 31 columns]\n",
      "3. DATA TAIL: \n",
      "             Time         V1         V2        V3        V4        V5  \\\n",
      "284802  172786.0 -11.881118  10.071785 -9.834783 -2.066656 -5.364473   \n",
      "284803  172787.0  -0.732789  -0.055080  2.035030 -0.738589  0.868229   \n",
      "284804  172788.0   1.919565  -0.301254 -3.249640 -0.557828  2.630515   \n",
      "284805  172788.0  -0.240440   0.530483  0.702510  0.689799 -0.377961   \n",
      "284806  172792.0  -0.533413  -0.189733  0.703337 -0.506271 -0.012546   \n",
      "\n",
      "              V6        V7        V8        V9  ...       V21       V22  \\\n",
      "284802 -2.606837 -4.918215  7.305334  1.914428  ...  0.213454  0.111864   \n",
      "284803  1.058415  0.024330  0.294869  0.584800  ...  0.214205  0.924384   \n",
      "284804  3.031260 -0.296827  0.708417  0.432454  ...  0.232045  0.578229   \n",
      "284805  0.623708 -0.686180  0.679145  0.392087  ...  0.265245  0.800049   \n",
      "284806 -0.649617  1.577006 -0.414650  0.486180  ...  0.261057  0.643078   \n",
      "\n",
      "             V23       V24       V25       V26       V27       V28  Amount  \\\n",
      "284802  1.014480 -0.509348  1.436807  0.250034  0.943651  0.823731    0.77   \n",
      "284803  0.012463 -1.016226 -0.606624 -0.395255  0.068472 -0.053527   24.79   \n",
      "284804 -0.037501  0.640134  0.265745 -0.087371  0.004455 -0.026561   67.88   \n",
      "284805 -0.163298  0.123205 -0.569159  0.546668  0.108821  0.104533   10.00   \n",
      "284806  0.376777  0.008797 -0.473649 -0.818267 -0.002415  0.013649  217.00   \n",
      "\n",
      "        Class  \n",
      "284802      0  \n",
      "284803      0  \n",
      "284804      0  \n",
      "284805      0  \n",
      "284806      0  \n",
      "\n",
      "[5 rows x 31 columns]\n"
     ]
    }
   ],
   "source": [
    "print('1. DATA SHAPE: ', data.shape)\n",
    "print('2. DATA HEAD: '\"\\n\",  data.head(5))\n",
    "print('3. DATA TAIL: '\"\\n\",  data.tail(5))"
   ]
  },
  {
   "cell_type": "markdown",
   "metadata": {},
   "source": [
    "#### Check the types of the data"
   ]
  },
  {
   "cell_type": "code",
   "execution_count": 4,
   "metadata": {
    "execution": {
     "iopub.execute_input": "2021-11-27T02:36:41.083245Z",
     "iopub.status.busy": "2021-11-27T02:36:41.082979Z",
     "iopub.status.idle": "2021-11-27T02:36:41.127137Z",
     "shell.execute_reply": "2021-11-27T02:36:41.126201Z",
     "shell.execute_reply.started": "2021-11-27T02:36:41.083217Z"
    }
   },
   "outputs": [
    {
     "name": "stdout",
     "output_type": "stream",
     "text": [
      "<class 'pandas.core.frame.DataFrame'>\n",
      "RangeIndex: 284807 entries, 0 to 284806\n",
      "Data columns (total 31 columns):\n",
      " #   Column  Non-Null Count   Dtype  \n",
      "---  ------  --------------   -----  \n",
      " 0   Time    284807 non-null  float64\n",
      " 1   V1      284807 non-null  float64\n",
      " 2   V2      284807 non-null  float64\n",
      " 3   V3      284807 non-null  float64\n",
      " 4   V4      284807 non-null  float64\n",
      " 5   V5      284807 non-null  float64\n",
      " 6   V6      284807 non-null  float64\n",
      " 7   V7      284807 non-null  float64\n",
      " 8   V8      284807 non-null  float64\n",
      " 9   V9      284807 non-null  float64\n",
      " 10  V10     284807 non-null  float64\n",
      " 11  V11     284807 non-null  float64\n",
      " 12  V12     284807 non-null  float64\n",
      " 13  V13     284807 non-null  float64\n",
      " 14  V14     284807 non-null  float64\n",
      " 15  V15     284807 non-null  float64\n",
      " 16  V16     284807 non-null  float64\n",
      " 17  V17     284807 non-null  float64\n",
      " 18  V18     284807 non-null  float64\n",
      " 19  V19     284807 non-null  float64\n",
      " 20  V20     284807 non-null  float64\n",
      " 21  V21     284807 non-null  float64\n",
      " 22  V22     284807 non-null  float64\n",
      " 23  V23     284807 non-null  float64\n",
      " 24  V24     284807 non-null  float64\n",
      " 25  V25     284807 non-null  float64\n",
      " 26  V26     284807 non-null  float64\n",
      " 27  V27     284807 non-null  float64\n",
      " 28  V28     284807 non-null  float64\n",
      " 29  Amount  284807 non-null  float64\n",
      " 30  Class   284807 non-null  int64  \n",
      "dtypes: float64(30), int64(1)\n",
      "memory usage: 67.4 MB\n"
     ]
    }
   ],
   "source": [
    "data.info()"
   ]
  },
  {
   "cell_type": "markdown",
   "metadata": {},
   "source": [
    "#### Checking missing values"
   ]
  },
  {
   "cell_type": "code",
   "execution_count": 5,
   "metadata": {
    "execution": {
     "iopub.execute_input": "2021-11-27T02:36:47.998890Z",
     "iopub.status.busy": "2021-11-27T02:36:47.998385Z",
     "iopub.status.idle": "2021-11-27T02:36:48.027435Z",
     "shell.execute_reply": "2021-11-27T02:36:48.026376Z",
     "shell.execute_reply.started": "2021-11-27T02:36:47.998838Z"
    }
   },
   "outputs": [
    {
     "data": {
      "text/plain": [
       "Time      0\n",
       "V1        0\n",
       "V2        0\n",
       "V3        0\n",
       "V4        0\n",
       "V5        0\n",
       "V6        0\n",
       "V7        0\n",
       "V8        0\n",
       "V9        0\n",
       "V10       0\n",
       "V11       0\n",
       "V12       0\n",
       "V13       0\n",
       "V14       0\n",
       "V15       0\n",
       "V16       0\n",
       "V17       0\n",
       "V18       0\n",
       "V19       0\n",
       "V20       0\n",
       "V21       0\n",
       "V22       0\n",
       "V23       0\n",
       "V24       0\n",
       "V25       0\n",
       "V26       0\n",
       "V27       0\n",
       "V28       0\n",
       "Amount    0\n",
       "Class     0\n",
       "dtype: int64"
      ]
     },
     "execution_count": 5,
     "metadata": {},
     "output_type": "execute_result"
    }
   ],
   "source": [
    "data.isnull().sum()"
   ]
  },
  {
   "cell_type": "markdown",
   "metadata": {},
   "source": [
    "#### Describe the summary statistics"
   ]
  },
  {
   "cell_type": "code",
   "execution_count": 6,
   "metadata": {
    "execution": {
     "iopub.execute_input": "2021-11-27T02:36:51.712012Z",
     "iopub.status.busy": "2021-11-27T02:36:51.711734Z",
     "iopub.status.idle": "2021-11-27T02:36:52.144143Z",
     "shell.execute_reply": "2021-11-27T02:36:52.143185Z",
     "shell.execute_reply.started": "2021-11-27T02:36:51.711982Z"
    }
   },
   "outputs": [
    {
     "data": {
      "text/html": [
       "<div>\n",
       "<style scoped>\n",
       "    .dataframe tbody tr th:only-of-type {\n",
       "        vertical-align: middle;\n",
       "    }\n",
       "\n",
       "    .dataframe tbody tr th {\n",
       "        vertical-align: top;\n",
       "    }\n",
       "\n",
       "    .dataframe thead th {\n",
       "        text-align: right;\n",
       "    }\n",
       "</style>\n",
       "<table border=\"1\" class=\"dataframe\">\n",
       "  <thead>\n",
       "    <tr style=\"text-align: right;\">\n",
       "      <th></th>\n",
       "      <th>Time</th>\n",
       "      <th>V1</th>\n",
       "      <th>V2</th>\n",
       "      <th>V3</th>\n",
       "      <th>V4</th>\n",
       "      <th>V5</th>\n",
       "      <th>V6</th>\n",
       "      <th>V7</th>\n",
       "      <th>V8</th>\n",
       "      <th>V9</th>\n",
       "      <th>...</th>\n",
       "      <th>V21</th>\n",
       "      <th>V22</th>\n",
       "      <th>V23</th>\n",
       "      <th>V24</th>\n",
       "      <th>V25</th>\n",
       "      <th>V26</th>\n",
       "      <th>V27</th>\n",
       "      <th>V28</th>\n",
       "      <th>Amount</th>\n",
       "      <th>Class</th>\n",
       "    </tr>\n",
       "  </thead>\n",
       "  <tbody>\n",
       "    <tr>\n",
       "      <th>count</th>\n",
       "      <td>284807.00</td>\n",
       "      <td>2.85e+05</td>\n",
       "      <td>2.85e+05</td>\n",
       "      <td>2.85e+05</td>\n",
       "      <td>2.85e+05</td>\n",
       "      <td>2.85e+05</td>\n",
       "      <td>2.85e+05</td>\n",
       "      <td>2.85e+05</td>\n",
       "      <td>2.85e+05</td>\n",
       "      <td>2.85e+05</td>\n",
       "      <td>...</td>\n",
       "      <td>2.85e+05</td>\n",
       "      <td>2.85e+05</td>\n",
       "      <td>2.85e+05</td>\n",
       "      <td>2.85e+05</td>\n",
       "      <td>2.85e+05</td>\n",
       "      <td>2.85e+05</td>\n",
       "      <td>2.85e+05</td>\n",
       "      <td>2.85e+05</td>\n",
       "      <td>284807.00</td>\n",
       "      <td>2.85e+05</td>\n",
       "    </tr>\n",
       "    <tr>\n",
       "      <th>mean</th>\n",
       "      <td>94813.86</td>\n",
       "      <td>3.92e-15</td>\n",
       "      <td>5.68e-16</td>\n",
       "      <td>-8.76e-15</td>\n",
       "      <td>2.81e-15</td>\n",
       "      <td>-1.55e-15</td>\n",
       "      <td>2.04e-15</td>\n",
       "      <td>-1.70e-15</td>\n",
       "      <td>-1.89e-16</td>\n",
       "      <td>-3.15e-15</td>\n",
       "      <td>...</td>\n",
       "      <td>1.47e-16</td>\n",
       "      <td>8.04e-16</td>\n",
       "      <td>5.28e-16</td>\n",
       "      <td>4.46e-15</td>\n",
       "      <td>1.43e-15</td>\n",
       "      <td>1.70e-15</td>\n",
       "      <td>-3.66e-16</td>\n",
       "      <td>-1.22e-16</td>\n",
       "      <td>88.35</td>\n",
       "      <td>1.73e-03</td>\n",
       "    </tr>\n",
       "    <tr>\n",
       "      <th>std</th>\n",
       "      <td>47488.15</td>\n",
       "      <td>1.96e+00</td>\n",
       "      <td>1.65e+00</td>\n",
       "      <td>1.52e+00</td>\n",
       "      <td>1.42e+00</td>\n",
       "      <td>1.38e+00</td>\n",
       "      <td>1.33e+00</td>\n",
       "      <td>1.24e+00</td>\n",
       "      <td>1.19e+00</td>\n",
       "      <td>1.10e+00</td>\n",
       "      <td>...</td>\n",
       "      <td>7.35e-01</td>\n",
       "      <td>7.26e-01</td>\n",
       "      <td>6.24e-01</td>\n",
       "      <td>6.06e-01</td>\n",
       "      <td>5.21e-01</td>\n",
       "      <td>4.82e-01</td>\n",
       "      <td>4.04e-01</td>\n",
       "      <td>3.30e-01</td>\n",
       "      <td>250.12</td>\n",
       "      <td>4.15e-02</td>\n",
       "    </tr>\n",
       "    <tr>\n",
       "      <th>min</th>\n",
       "      <td>0.00</td>\n",
       "      <td>-5.64e+01</td>\n",
       "      <td>-7.27e+01</td>\n",
       "      <td>-4.83e+01</td>\n",
       "      <td>-5.68e+00</td>\n",
       "      <td>-1.14e+02</td>\n",
       "      <td>-2.62e+01</td>\n",
       "      <td>-4.36e+01</td>\n",
       "      <td>-7.32e+01</td>\n",
       "      <td>-1.34e+01</td>\n",
       "      <td>...</td>\n",
       "      <td>-3.48e+01</td>\n",
       "      <td>-1.09e+01</td>\n",
       "      <td>-4.48e+01</td>\n",
       "      <td>-2.84e+00</td>\n",
       "      <td>-1.03e+01</td>\n",
       "      <td>-2.60e+00</td>\n",
       "      <td>-2.26e+01</td>\n",
       "      <td>-1.54e+01</td>\n",
       "      <td>0.00</td>\n",
       "      <td>0.00e+00</td>\n",
       "    </tr>\n",
       "    <tr>\n",
       "      <th>25%</th>\n",
       "      <td>54201.50</td>\n",
       "      <td>-9.20e-01</td>\n",
       "      <td>-5.99e-01</td>\n",
       "      <td>-8.90e-01</td>\n",
       "      <td>-8.49e-01</td>\n",
       "      <td>-6.92e-01</td>\n",
       "      <td>-7.68e-01</td>\n",
       "      <td>-5.54e-01</td>\n",
       "      <td>-2.09e-01</td>\n",
       "      <td>-6.43e-01</td>\n",
       "      <td>...</td>\n",
       "      <td>-2.28e-01</td>\n",
       "      <td>-5.42e-01</td>\n",
       "      <td>-1.62e-01</td>\n",
       "      <td>-3.55e-01</td>\n",
       "      <td>-3.17e-01</td>\n",
       "      <td>-3.27e-01</td>\n",
       "      <td>-7.08e-02</td>\n",
       "      <td>-5.30e-02</td>\n",
       "      <td>5.60</td>\n",
       "      <td>0.00e+00</td>\n",
       "    </tr>\n",
       "    <tr>\n",
       "      <th>50%</th>\n",
       "      <td>84692.00</td>\n",
       "      <td>1.81e-02</td>\n",
       "      <td>6.55e-02</td>\n",
       "      <td>1.80e-01</td>\n",
       "      <td>-1.98e-02</td>\n",
       "      <td>-5.43e-02</td>\n",
       "      <td>-2.74e-01</td>\n",
       "      <td>4.01e-02</td>\n",
       "      <td>2.24e-02</td>\n",
       "      <td>-5.14e-02</td>\n",
       "      <td>...</td>\n",
       "      <td>-2.95e-02</td>\n",
       "      <td>6.78e-03</td>\n",
       "      <td>-1.12e-02</td>\n",
       "      <td>4.10e-02</td>\n",
       "      <td>1.66e-02</td>\n",
       "      <td>-5.21e-02</td>\n",
       "      <td>1.34e-03</td>\n",
       "      <td>1.12e-02</td>\n",
       "      <td>22.00</td>\n",
       "      <td>0.00e+00</td>\n",
       "    </tr>\n",
       "    <tr>\n",
       "      <th>75%</th>\n",
       "      <td>139320.50</td>\n",
       "      <td>1.32e+00</td>\n",
       "      <td>8.04e-01</td>\n",
       "      <td>1.03e+00</td>\n",
       "      <td>7.43e-01</td>\n",
       "      <td>6.12e-01</td>\n",
       "      <td>3.99e-01</td>\n",
       "      <td>5.70e-01</td>\n",
       "      <td>3.27e-01</td>\n",
       "      <td>5.97e-01</td>\n",
       "      <td>...</td>\n",
       "      <td>1.86e-01</td>\n",
       "      <td>5.29e-01</td>\n",
       "      <td>1.48e-01</td>\n",
       "      <td>4.40e-01</td>\n",
       "      <td>3.51e-01</td>\n",
       "      <td>2.41e-01</td>\n",
       "      <td>9.10e-02</td>\n",
       "      <td>7.83e-02</td>\n",
       "      <td>77.16</td>\n",
       "      <td>0.00e+00</td>\n",
       "    </tr>\n",
       "    <tr>\n",
       "      <th>max</th>\n",
       "      <td>172792.00</td>\n",
       "      <td>2.45e+00</td>\n",
       "      <td>2.21e+01</td>\n",
       "      <td>9.38e+00</td>\n",
       "      <td>1.69e+01</td>\n",
       "      <td>3.48e+01</td>\n",
       "      <td>7.33e+01</td>\n",
       "      <td>1.21e+02</td>\n",
       "      <td>2.00e+01</td>\n",
       "      <td>1.56e+01</td>\n",
       "      <td>...</td>\n",
       "      <td>2.72e+01</td>\n",
       "      <td>1.05e+01</td>\n",
       "      <td>2.25e+01</td>\n",
       "      <td>4.58e+00</td>\n",
       "      <td>7.52e+00</td>\n",
       "      <td>3.52e+00</td>\n",
       "      <td>3.16e+01</td>\n",
       "      <td>3.38e+01</td>\n",
       "      <td>25691.16</td>\n",
       "      <td>1.00e+00</td>\n",
       "    </tr>\n",
       "  </tbody>\n",
       "</table>\n",
       "<p>8 rows × 31 columns</p>\n",
       "</div>"
      ],
      "text/plain": [
       "            Time        V1        V2        V3        V4        V5        V6  \\\n",
       "count  284807.00  2.85e+05  2.85e+05  2.85e+05  2.85e+05  2.85e+05  2.85e+05   \n",
       "mean    94813.86  3.92e-15  5.68e-16 -8.76e-15  2.81e-15 -1.55e-15  2.04e-15   \n",
       "std     47488.15  1.96e+00  1.65e+00  1.52e+00  1.42e+00  1.38e+00  1.33e+00   \n",
       "min         0.00 -5.64e+01 -7.27e+01 -4.83e+01 -5.68e+00 -1.14e+02 -2.62e+01   \n",
       "25%     54201.50 -9.20e-01 -5.99e-01 -8.90e-01 -8.49e-01 -6.92e-01 -7.68e-01   \n",
       "50%     84692.00  1.81e-02  6.55e-02  1.80e-01 -1.98e-02 -5.43e-02 -2.74e-01   \n",
       "75%    139320.50  1.32e+00  8.04e-01  1.03e+00  7.43e-01  6.12e-01  3.99e-01   \n",
       "max    172792.00  2.45e+00  2.21e+01  9.38e+00  1.69e+01  3.48e+01  7.33e+01   \n",
       "\n",
       "             V7        V8        V9  ...       V21       V22       V23  \\\n",
       "count  2.85e+05  2.85e+05  2.85e+05  ...  2.85e+05  2.85e+05  2.85e+05   \n",
       "mean  -1.70e-15 -1.89e-16 -3.15e-15  ...  1.47e-16  8.04e-16  5.28e-16   \n",
       "std    1.24e+00  1.19e+00  1.10e+00  ...  7.35e-01  7.26e-01  6.24e-01   \n",
       "min   -4.36e+01 -7.32e+01 -1.34e+01  ... -3.48e+01 -1.09e+01 -4.48e+01   \n",
       "25%   -5.54e-01 -2.09e-01 -6.43e-01  ... -2.28e-01 -5.42e-01 -1.62e-01   \n",
       "50%    4.01e-02  2.24e-02 -5.14e-02  ... -2.95e-02  6.78e-03 -1.12e-02   \n",
       "75%    5.70e-01  3.27e-01  5.97e-01  ...  1.86e-01  5.29e-01  1.48e-01   \n",
       "max    1.21e+02  2.00e+01  1.56e+01  ...  2.72e+01  1.05e+01  2.25e+01   \n",
       "\n",
       "            V24       V25       V26       V27       V28     Amount     Class  \n",
       "count  2.85e+05  2.85e+05  2.85e+05  2.85e+05  2.85e+05  284807.00  2.85e+05  \n",
       "mean   4.46e-15  1.43e-15  1.70e-15 -3.66e-16 -1.22e-16      88.35  1.73e-03  \n",
       "std    6.06e-01  5.21e-01  4.82e-01  4.04e-01  3.30e-01     250.12  4.15e-02  \n",
       "min   -2.84e+00 -1.03e+01 -2.60e+00 -2.26e+01 -1.54e+01       0.00  0.00e+00  \n",
       "25%   -3.55e-01 -3.17e-01 -3.27e-01 -7.08e-02 -5.30e-02       5.60  0.00e+00  \n",
       "50%    4.10e-02  1.66e-02 -5.21e-02  1.34e-03  1.12e-02      22.00  0.00e+00  \n",
       "75%    4.40e-01  3.51e-01  2.41e-01  9.10e-02  7.83e-02      77.16  0.00e+00  \n",
       "max    4.58e+00  7.52e+00  3.52e+00  3.16e+01  3.38e+01   25691.16  1.00e+00  \n",
       "\n",
       "[8 rows x 31 columns]"
      ]
     },
     "execution_count": 6,
     "metadata": {},
     "output_type": "execute_result"
    }
   ],
   "source": [
    "pd.set_option('precision',2)\n",
    "data.describe()"
   ]
  },
  {
   "cell_type": "markdown",
   "metadata": {},
   "source": [
    "#### Checking transaction distribution"
   ]
  },
  {
   "cell_type": "code",
   "execution_count": 7,
   "metadata": {
    "execution": {
     "iopub.execute_input": "2021-11-27T02:36:55.511558Z",
     "iopub.status.busy": "2021-11-27T02:36:55.511231Z",
     "iopub.status.idle": "2021-11-27T02:36:55.556066Z",
     "shell.execute_reply": "2021-11-27T02:36:55.555187Z",
     "shell.execute_reply.started": "2021-11-27T02:36:55.511525Z"
    }
   },
   "outputs": [
    {
     "name": "stdout",
     "output_type": "stream",
     "text": [
      "Total number of Transaction are: 284807\n",
      "Total number of Secured Transaction are: 284315\n",
      "Total number of Fraud Transaction are: 492\n",
      "Percentage of Fraud Transaction are: 0.17\n"
     ]
    }
   ],
   "source": [
    "Total_transactions = len(data)\n",
    "secured = len(data[data.Class == 0])\n",
    "fraud = len(data[data.Class == 1])\n",
    "fraud_percentage = round(fraud/secured*100, 2)\n",
    "print('Total number of Transaction are:', Total_transactions)\n",
    "print('Total number of Secured Transaction are:', secured)\n",
    "print('Total number of Fraud Transaction are:', fraud)\n",
    "print('Percentage of Fraud Transaction are:', fraud_percentage)"
   ]
  },
  {
   "cell_type": "markdown",
   "metadata": {},
   "source": [
    "#### Independent Variables"
   ]
  },
  {
   "cell_type": "code",
   "execution_count": 8,
   "metadata": {
    "execution": {
     "iopub.execute_input": "2021-11-27T02:45:13.002192Z",
     "iopub.status.busy": "2021-11-27T02:45:13.001828Z",
     "iopub.status.idle": "2021-11-27T02:45:13.068573Z",
     "shell.execute_reply": "2021-11-27T02:45:13.067940Z",
     "shell.execute_reply.started": "2021-11-27T02:45:13.002161Z"
    }
   },
   "outputs": [
    {
     "data": {
      "text/html": [
       "<div>\n",
       "<style scoped>\n",
       "    .dataframe tbody tr th:only-of-type {\n",
       "        vertical-align: middle;\n",
       "    }\n",
       "\n",
       "    .dataframe tbody tr th {\n",
       "        vertical-align: top;\n",
       "    }\n",
       "\n",
       "    .dataframe thead th {\n",
       "        text-align: right;\n",
       "    }\n",
       "</style>\n",
       "<table border=\"1\" class=\"dataframe\">\n",
       "  <thead>\n",
       "    <tr style=\"text-align: right;\">\n",
       "      <th></th>\n",
       "      <th>Time</th>\n",
       "      <th>V1</th>\n",
       "      <th>V2</th>\n",
       "      <th>V3</th>\n",
       "      <th>V4</th>\n",
       "      <th>V5</th>\n",
       "      <th>V6</th>\n",
       "      <th>V7</th>\n",
       "      <th>V8</th>\n",
       "      <th>V9</th>\n",
       "      <th>...</th>\n",
       "      <th>V20</th>\n",
       "      <th>V21</th>\n",
       "      <th>V22</th>\n",
       "      <th>V23</th>\n",
       "      <th>V24</th>\n",
       "      <th>V25</th>\n",
       "      <th>V26</th>\n",
       "      <th>V27</th>\n",
       "      <th>V28</th>\n",
       "      <th>Amount</th>\n",
       "    </tr>\n",
       "  </thead>\n",
       "  <tbody>\n",
       "    <tr>\n",
       "      <th>0</th>\n",
       "      <td>0.0</td>\n",
       "      <td>-1.36</td>\n",
       "      <td>-0.07</td>\n",
       "      <td>2.54</td>\n",
       "      <td>1.38</td>\n",
       "      <td>-0.34</td>\n",
       "      <td>0.46</td>\n",
       "      <td>0.24</td>\n",
       "      <td>0.10</td>\n",
       "      <td>0.36</td>\n",
       "      <td>...</td>\n",
       "      <td>0.25</td>\n",
       "      <td>-1.83e-02</td>\n",
       "      <td>2.78e-01</td>\n",
       "      <td>-0.11</td>\n",
       "      <td>0.07</td>\n",
       "      <td>0.13</td>\n",
       "      <td>-0.19</td>\n",
       "      <td>1.34e-01</td>\n",
       "      <td>-0.02</td>\n",
       "      <td>149.62</td>\n",
       "    </tr>\n",
       "    <tr>\n",
       "      <th>1</th>\n",
       "      <td>0.0</td>\n",
       "      <td>1.19</td>\n",
       "      <td>0.27</td>\n",
       "      <td>0.17</td>\n",
       "      <td>0.45</td>\n",
       "      <td>0.06</td>\n",
       "      <td>-0.08</td>\n",
       "      <td>-0.08</td>\n",
       "      <td>0.09</td>\n",
       "      <td>-0.26</td>\n",
       "      <td>...</td>\n",
       "      <td>-0.07</td>\n",
       "      <td>-2.26e-01</td>\n",
       "      <td>-6.39e-01</td>\n",
       "      <td>0.10</td>\n",
       "      <td>-0.34</td>\n",
       "      <td>0.17</td>\n",
       "      <td>0.13</td>\n",
       "      <td>-8.98e-03</td>\n",
       "      <td>0.01</td>\n",
       "      <td>2.69</td>\n",
       "    </tr>\n",
       "    <tr>\n",
       "      <th>2</th>\n",
       "      <td>1.0</td>\n",
       "      <td>-1.36</td>\n",
       "      <td>-1.34</td>\n",
       "      <td>1.77</td>\n",
       "      <td>0.38</td>\n",
       "      <td>-0.50</td>\n",
       "      <td>1.80</td>\n",
       "      <td>0.79</td>\n",
       "      <td>0.25</td>\n",
       "      <td>-1.51</td>\n",
       "      <td>...</td>\n",
       "      <td>0.52</td>\n",
       "      <td>2.48e-01</td>\n",
       "      <td>7.72e-01</td>\n",
       "      <td>0.91</td>\n",
       "      <td>-0.69</td>\n",
       "      <td>-0.33</td>\n",
       "      <td>-0.14</td>\n",
       "      <td>-5.54e-02</td>\n",
       "      <td>-0.06</td>\n",
       "      <td>378.66</td>\n",
       "    </tr>\n",
       "    <tr>\n",
       "      <th>3</th>\n",
       "      <td>1.0</td>\n",
       "      <td>-0.97</td>\n",
       "      <td>-0.19</td>\n",
       "      <td>1.79</td>\n",
       "      <td>-0.86</td>\n",
       "      <td>-0.01</td>\n",
       "      <td>1.25</td>\n",
       "      <td>0.24</td>\n",
       "      <td>0.38</td>\n",
       "      <td>-1.39</td>\n",
       "      <td>...</td>\n",
       "      <td>-0.21</td>\n",
       "      <td>-1.08e-01</td>\n",
       "      <td>5.27e-03</td>\n",
       "      <td>-0.19</td>\n",
       "      <td>-1.18</td>\n",
       "      <td>0.65</td>\n",
       "      <td>-0.22</td>\n",
       "      <td>6.27e-02</td>\n",
       "      <td>0.06</td>\n",
       "      <td>123.50</td>\n",
       "    </tr>\n",
       "    <tr>\n",
       "      <th>4</th>\n",
       "      <td>2.0</td>\n",
       "      <td>-1.16</td>\n",
       "      <td>0.88</td>\n",
       "      <td>1.55</td>\n",
       "      <td>0.40</td>\n",
       "      <td>-0.41</td>\n",
       "      <td>0.10</td>\n",
       "      <td>0.59</td>\n",
       "      <td>-0.27</td>\n",
       "      <td>0.82</td>\n",
       "      <td>...</td>\n",
       "      <td>0.41</td>\n",
       "      <td>-9.43e-03</td>\n",
       "      <td>7.98e-01</td>\n",
       "      <td>-0.14</td>\n",
       "      <td>0.14</td>\n",
       "      <td>-0.21</td>\n",
       "      <td>0.50</td>\n",
       "      <td>2.19e-01</td>\n",
       "      <td>0.22</td>\n",
       "      <td>69.99</td>\n",
       "    </tr>\n",
       "  </tbody>\n",
       "</table>\n",
       "<p>5 rows × 30 columns</p>\n",
       "</div>"
      ],
      "text/plain": [
       "   Time    V1    V2    V3    V4    V5    V6    V7    V8    V9  ...   V20  \\\n",
       "0   0.0 -1.36 -0.07  2.54  1.38 -0.34  0.46  0.24  0.10  0.36  ...  0.25   \n",
       "1   0.0  1.19  0.27  0.17  0.45  0.06 -0.08 -0.08  0.09 -0.26  ... -0.07   \n",
       "2   1.0 -1.36 -1.34  1.77  0.38 -0.50  1.80  0.79  0.25 -1.51  ...  0.52   \n",
       "3   1.0 -0.97 -0.19  1.79 -0.86 -0.01  1.25  0.24  0.38 -1.39  ... -0.21   \n",
       "4   2.0 -1.16  0.88  1.55  0.40 -0.41  0.10  0.59 -0.27  0.82  ...  0.41   \n",
       "\n",
       "        V21       V22   V23   V24   V25   V26       V27   V28  Amount  \n",
       "0 -1.83e-02  2.78e-01 -0.11  0.07  0.13 -0.19  1.34e-01 -0.02  149.62  \n",
       "1 -2.26e-01 -6.39e-01  0.10 -0.34  0.17  0.13 -8.98e-03  0.01    2.69  \n",
       "2  2.48e-01  7.72e-01  0.91 -0.69 -0.33 -0.14 -5.54e-02 -0.06  378.66  \n",
       "3 -1.08e-01  5.27e-03 -0.19 -1.18  0.65 -0.22  6.27e-02  0.06  123.50  \n",
       "4 -9.43e-03  7.98e-01 -0.14  0.14 -0.21  0.50  2.19e-01  0.22   69.99  \n",
       "\n",
       "[5 rows x 30 columns]"
      ]
     },
     "execution_count": 8,
     "metadata": {},
     "output_type": "execute_result"
    }
   ],
   "source": [
    "X = data.loc[:, data.columns != 'Class']\n",
    "X[0:5]"
   ]
  },
  {
   "cell_type": "markdown",
   "metadata": {},
   "source": [
    "#### Standardize the data in X "
   ]
  },
  {
   "cell_type": "code",
   "execution_count": 9,
   "metadata": {
    "execution": {
     "iopub.execute_input": "2021-11-27T02:45:16.238954Z",
     "iopub.status.busy": "2021-11-27T02:45:16.238388Z",
     "iopub.status.idle": "2021-11-27T02:45:16.656695Z",
     "shell.execute_reply": "2021-11-27T02:45:16.655849Z",
     "shell.execute_reply.started": "2021-11-27T02:45:16.238914Z"
    }
   },
   "outputs": [
    {
     "data": {
      "text/html": [
       "<div>\n",
       "<style scoped>\n",
       "    .dataframe tbody tr th:only-of-type {\n",
       "        vertical-align: middle;\n",
       "    }\n",
       "\n",
       "    .dataframe tbody tr th {\n",
       "        vertical-align: top;\n",
       "    }\n",
       "\n",
       "    .dataframe thead th {\n",
       "        text-align: right;\n",
       "    }\n",
       "</style>\n",
       "<table border=\"1\" class=\"dataframe\">\n",
       "  <thead>\n",
       "    <tr style=\"text-align: right;\">\n",
       "      <th></th>\n",
       "      <th>0</th>\n",
       "      <th>1</th>\n",
       "      <th>2</th>\n",
       "      <th>3</th>\n",
       "      <th>4</th>\n",
       "      <th>5</th>\n",
       "      <th>6</th>\n",
       "      <th>7</th>\n",
       "      <th>8</th>\n",
       "      <th>9</th>\n",
       "      <th>...</th>\n",
       "      <th>20</th>\n",
       "      <th>21</th>\n",
       "      <th>22</th>\n",
       "      <th>23</th>\n",
       "      <th>24</th>\n",
       "      <th>25</th>\n",
       "      <th>26</th>\n",
       "      <th>27</th>\n",
       "      <th>28</th>\n",
       "      <th>29</th>\n",
       "    </tr>\n",
       "  </thead>\n",
       "  <tbody>\n",
       "    <tr>\n",
       "      <th>0</th>\n",
       "      <td>-2.00</td>\n",
       "      <td>-0.69</td>\n",
       "      <td>-0.04</td>\n",
       "      <td>1.67</td>\n",
       "      <td>0.97</td>\n",
       "      <td>-2.45e-01</td>\n",
       "      <td>0.35</td>\n",
       "      <td>0.19</td>\n",
       "      <td>0.08</td>\n",
       "      <td>0.33</td>\n",
       "      <td>...</td>\n",
       "      <td>3.26e-01</td>\n",
       "      <td>-0.02</td>\n",
       "      <td>3.83e-01</td>\n",
       "      <td>-0.18</td>\n",
       "      <td>0.11</td>\n",
       "      <td>0.25</td>\n",
       "      <td>-0.39</td>\n",
       "      <td>3.31e-01</td>\n",
       "      <td>-0.06</td>\n",
       "      <td>0.24</td>\n",
       "    </tr>\n",
       "    <tr>\n",
       "      <th>1</th>\n",
       "      <td>-2.00</td>\n",
       "      <td>0.61</td>\n",
       "      <td>0.16</td>\n",
       "      <td>0.11</td>\n",
       "      <td>0.32</td>\n",
       "      <td>4.35e-02</td>\n",
       "      <td>-0.06</td>\n",
       "      <td>-0.06</td>\n",
       "      <td>0.07</td>\n",
       "      <td>-0.23</td>\n",
       "      <td>...</td>\n",
       "      <td>-8.96e-02</td>\n",
       "      <td>-0.31</td>\n",
       "      <td>-8.80e-01</td>\n",
       "      <td>0.16</td>\n",
       "      <td>-0.56</td>\n",
       "      <td>0.32</td>\n",
       "      <td>0.26</td>\n",
       "      <td>-2.23e-02</td>\n",
       "      <td>0.04</td>\n",
       "      <td>-0.34</td>\n",
       "    </tr>\n",
       "    <tr>\n",
       "      <th>2</th>\n",
       "      <td>-2.00</td>\n",
       "      <td>-0.69</td>\n",
       "      <td>-0.81</td>\n",
       "      <td>1.17</td>\n",
       "      <td>0.27</td>\n",
       "      <td>-3.65e-01</td>\n",
       "      <td>1.35</td>\n",
       "      <td>0.64</td>\n",
       "      <td>0.21</td>\n",
       "      <td>-1.38</td>\n",
       "      <td>...</td>\n",
       "      <td>6.81e-01</td>\n",
       "      <td>0.34</td>\n",
       "      <td>1.06e+00</td>\n",
       "      <td>1.46</td>\n",
       "      <td>-1.14</td>\n",
       "      <td>-0.63</td>\n",
       "      <td>-0.29</td>\n",
       "      <td>-1.37e-01</td>\n",
       "      <td>-0.18</td>\n",
       "      <td>1.16</td>\n",
       "    </tr>\n",
       "    <tr>\n",
       "      <th>3</th>\n",
       "      <td>-2.00</td>\n",
       "      <td>-0.49</td>\n",
       "      <td>-0.11</td>\n",
       "      <td>1.18</td>\n",
       "      <td>-0.61</td>\n",
       "      <td>-7.47e-03</td>\n",
       "      <td>0.94</td>\n",
       "      <td>0.19</td>\n",
       "      <td>0.32</td>\n",
       "      <td>-1.26</td>\n",
       "      <td>...</td>\n",
       "      <td>-2.70e-01</td>\n",
       "      <td>-0.15</td>\n",
       "      <td>7.27e-03</td>\n",
       "      <td>-0.30</td>\n",
       "      <td>-1.94</td>\n",
       "      <td>1.24</td>\n",
       "      <td>-0.46</td>\n",
       "      <td>1.55e-01</td>\n",
       "      <td>0.19</td>\n",
       "      <td>0.14</td>\n",
       "    </tr>\n",
       "    <tr>\n",
       "      <th>4</th>\n",
       "      <td>-2.00</td>\n",
       "      <td>-0.59</td>\n",
       "      <td>0.53</td>\n",
       "      <td>1.02</td>\n",
       "      <td>0.28</td>\n",
       "      <td>-2.95e-01</td>\n",
       "      <td>0.07</td>\n",
       "      <td>0.48</td>\n",
       "      <td>-0.23</td>\n",
       "      <td>0.74</td>\n",
       "      <td>...</td>\n",
       "      <td>5.30e-01</td>\n",
       "      <td>-0.01</td>\n",
       "      <td>1.10e+00</td>\n",
       "      <td>-0.22</td>\n",
       "      <td>0.23</td>\n",
       "      <td>-0.40</td>\n",
       "      <td>1.04</td>\n",
       "      <td>5.44e-01</td>\n",
       "      <td>0.65</td>\n",
       "      <td>-0.07</td>\n",
       "    </tr>\n",
       "    <tr>\n",
       "      <th>...</th>\n",
       "      <td>...</td>\n",
       "      <td>...</td>\n",
       "      <td>...</td>\n",
       "      <td>...</td>\n",
       "      <td>...</td>\n",
       "      <td>...</td>\n",
       "      <td>...</td>\n",
       "      <td>...</td>\n",
       "      <td>...</td>\n",
       "      <td>...</td>\n",
       "      <td>...</td>\n",
       "      <td>...</td>\n",
       "      <td>...</td>\n",
       "      <td>...</td>\n",
       "      <td>...</td>\n",
       "      <td>...</td>\n",
       "      <td>...</td>\n",
       "      <td>...</td>\n",
       "      <td>...</td>\n",
       "      <td>...</td>\n",
       "      <td>...</td>\n",
       "    </tr>\n",
       "    <tr>\n",
       "      <th>284802</th>\n",
       "      <td>1.64</td>\n",
       "      <td>-6.07</td>\n",
       "      <td>6.10</td>\n",
       "      <td>-6.49</td>\n",
       "      <td>-1.46</td>\n",
       "      <td>-3.89e+00</td>\n",
       "      <td>-1.96</td>\n",
       "      <td>-3.98</td>\n",
       "      <td>6.12</td>\n",
       "      <td>1.74</td>\n",
       "      <td>...</td>\n",
       "      <td>1.91e+00</td>\n",
       "      <td>0.29</td>\n",
       "      <td>1.54e-01</td>\n",
       "      <td>1.62</td>\n",
       "      <td>-0.84</td>\n",
       "      <td>2.76</td>\n",
       "      <td>0.52</td>\n",
       "      <td>2.34e+00</td>\n",
       "      <td>2.50</td>\n",
       "      <td>-0.35</td>\n",
       "    </tr>\n",
       "    <tr>\n",
       "      <th>284803</th>\n",
       "      <td>1.64</td>\n",
       "      <td>-0.37</td>\n",
       "      <td>-0.03</td>\n",
       "      <td>1.34</td>\n",
       "      <td>-0.52</td>\n",
       "      <td>6.29e-01</td>\n",
       "      <td>0.79</td>\n",
       "      <td>0.02</td>\n",
       "      <td>0.25</td>\n",
       "      <td>0.53</td>\n",
       "      <td>...</td>\n",
       "      <td>7.73e-02</td>\n",
       "      <td>0.29</td>\n",
       "      <td>1.27e+00</td>\n",
       "      <td>0.02</td>\n",
       "      <td>-1.68</td>\n",
       "      <td>-1.16</td>\n",
       "      <td>-0.82</td>\n",
       "      <td>1.70e-01</td>\n",
       "      <td>-0.16</td>\n",
       "      <td>-0.25</td>\n",
       "    </tr>\n",
       "    <tr>\n",
       "      <th>284804</th>\n",
       "      <td>1.64</td>\n",
       "      <td>0.98</td>\n",
       "      <td>-0.18</td>\n",
       "      <td>-2.14</td>\n",
       "      <td>-0.39</td>\n",
       "      <td>1.91e+00</td>\n",
       "      <td>2.28</td>\n",
       "      <td>-0.24</td>\n",
       "      <td>0.59</td>\n",
       "      <td>0.39</td>\n",
       "      <td>...</td>\n",
       "      <td>1.81e-03</td>\n",
       "      <td>0.32</td>\n",
       "      <td>7.97e-01</td>\n",
       "      <td>-0.06</td>\n",
       "      <td>1.06</td>\n",
       "      <td>0.51</td>\n",
       "      <td>-0.18</td>\n",
       "      <td>1.10e-02</td>\n",
       "      <td>-0.08</td>\n",
       "      <td>-0.08</td>\n",
       "    </tr>\n",
       "    <tr>\n",
       "      <th>284805</th>\n",
       "      <td>1.64</td>\n",
       "      <td>-0.12</td>\n",
       "      <td>0.32</td>\n",
       "      <td>0.46</td>\n",
       "      <td>0.49</td>\n",
       "      <td>-2.74e-01</td>\n",
       "      <td>0.47</td>\n",
       "      <td>-0.55</td>\n",
       "      <td>0.57</td>\n",
       "      <td>0.36</td>\n",
       "      <td>...</td>\n",
       "      <td>1.65e-01</td>\n",
       "      <td>0.36</td>\n",
       "      <td>1.10e+00</td>\n",
       "      <td>-0.26</td>\n",
       "      <td>0.20</td>\n",
       "      <td>-1.09</td>\n",
       "      <td>1.13</td>\n",
       "      <td>2.70e-01</td>\n",
       "      <td>0.32</td>\n",
       "      <td>-0.31</td>\n",
       "    </tr>\n",
       "    <tr>\n",
       "      <th>284806</th>\n",
       "      <td>1.64</td>\n",
       "      <td>-0.27</td>\n",
       "      <td>-0.11</td>\n",
       "      <td>0.46</td>\n",
       "      <td>-0.36</td>\n",
       "      <td>-9.09e-03</td>\n",
       "      <td>-0.49</td>\n",
       "      <td>1.27</td>\n",
       "      <td>-0.35</td>\n",
       "      <td>0.44</td>\n",
       "      <td>...</td>\n",
       "      <td>4.97e-01</td>\n",
       "      <td>0.36</td>\n",
       "      <td>8.86e-01</td>\n",
       "      <td>0.60</td>\n",
       "      <td>0.01</td>\n",
       "      <td>-0.91</td>\n",
       "      <td>-1.70</td>\n",
       "      <td>-5.98e-03</td>\n",
       "      <td>0.04</td>\n",
       "      <td>0.51</td>\n",
       "    </tr>\n",
       "  </tbody>\n",
       "</table>\n",
       "<p>284807 rows × 30 columns</p>\n",
       "</div>"
      ],
      "text/plain": [
       "          0     1     2     3     4         5     6     7     8     9   ...  \\\n",
       "0      -2.00 -0.69 -0.04  1.67  0.97 -2.45e-01  0.35  0.19  0.08  0.33  ...   \n",
       "1      -2.00  0.61  0.16  0.11  0.32  4.35e-02 -0.06 -0.06  0.07 -0.23  ...   \n",
       "2      -2.00 -0.69 -0.81  1.17  0.27 -3.65e-01  1.35  0.64  0.21 -1.38  ...   \n",
       "3      -2.00 -0.49 -0.11  1.18 -0.61 -7.47e-03  0.94  0.19  0.32 -1.26  ...   \n",
       "4      -2.00 -0.59  0.53  1.02  0.28 -2.95e-01  0.07  0.48 -0.23  0.74  ...   \n",
       "...      ...   ...   ...   ...   ...       ...   ...   ...   ...   ...  ...   \n",
       "284802  1.64 -6.07  6.10 -6.49 -1.46 -3.89e+00 -1.96 -3.98  6.12  1.74  ...   \n",
       "284803  1.64 -0.37 -0.03  1.34 -0.52  6.29e-01  0.79  0.02  0.25  0.53  ...   \n",
       "284804  1.64  0.98 -0.18 -2.14 -0.39  1.91e+00  2.28 -0.24  0.59  0.39  ...   \n",
       "284805  1.64 -0.12  0.32  0.46  0.49 -2.74e-01  0.47 -0.55  0.57  0.36  ...   \n",
       "284806  1.64 -0.27 -0.11  0.46 -0.36 -9.09e-03 -0.49  1.27 -0.35  0.44  ...   \n",
       "\n",
       "              20    21        22    23    24    25    26        27    28    29  \n",
       "0       3.26e-01 -0.02  3.83e-01 -0.18  0.11  0.25 -0.39  3.31e-01 -0.06  0.24  \n",
       "1      -8.96e-02 -0.31 -8.80e-01  0.16 -0.56  0.32  0.26 -2.23e-02  0.04 -0.34  \n",
       "2       6.81e-01  0.34  1.06e+00  1.46 -1.14 -0.63 -0.29 -1.37e-01 -0.18  1.16  \n",
       "3      -2.70e-01 -0.15  7.27e-03 -0.30 -1.94  1.24 -0.46  1.55e-01  0.19  0.14  \n",
       "4       5.30e-01 -0.01  1.10e+00 -0.22  0.23 -0.40  1.04  5.44e-01  0.65 -0.07  \n",
       "...          ...   ...       ...   ...   ...   ...   ...       ...   ...   ...  \n",
       "284802  1.91e+00  0.29  1.54e-01  1.62 -0.84  2.76  0.52  2.34e+00  2.50 -0.35  \n",
       "284803  7.73e-02  0.29  1.27e+00  0.02 -1.68 -1.16 -0.82  1.70e-01 -0.16 -0.25  \n",
       "284804  1.81e-03  0.32  7.97e-01 -0.06  1.06  0.51 -0.18  1.10e-02 -0.08 -0.08  \n",
       "284805  1.65e-01  0.36  1.10e+00 -0.26  0.20 -1.09  1.13  2.70e-01  0.32 -0.31  \n",
       "284806  4.97e-01  0.36  8.86e-01  0.60  0.01 -0.91 -1.70 -5.98e-03  0.04  0.51  \n",
       "\n",
       "[284807 rows x 30 columns]"
      ]
     },
     "execution_count": 9,
     "metadata": {},
     "output_type": "execute_result"
    }
   ],
   "source": [
    "x_scaled = preprocessing.scale(X)\n",
    "X = pd.DataFrame(x_scaled)\n",
    "X"
   ]
  },
  {
   "cell_type": "markdown",
   "metadata": {},
   "source": [
    "#### Dependent Variable"
   ]
  },
  {
   "cell_type": "code",
   "execution_count": 10,
   "metadata": {
    "execution": {
     "iopub.execute_input": "2021-11-27T02:45:20.661675Z",
     "iopub.status.busy": "2021-11-27T02:45:20.661168Z",
     "iopub.status.idle": "2021-11-27T02:45:20.667328Z",
     "shell.execute_reply": "2021-11-27T02:45:20.666537Z",
     "shell.execute_reply.started": "2021-11-27T02:45:20.661624Z"
    }
   },
   "outputs": [
    {
     "data": {
      "text/plain": [
       "array([0, 0, 0, 0, 0])"
      ]
     },
     "execution_count": 10,
     "metadata": {},
     "output_type": "execute_result"
    }
   ],
   "source": [
    "y = data[\"Class\"].to_numpy()\n",
    "y[0:5]"
   ]
  },
  {
   "cell_type": "markdown",
   "metadata": {},
   "source": [
    "#### Now, we normalize the dataset"
   ]
  },
  {
   "cell_type": "code",
   "execution_count": 11,
   "metadata": {
    "execution": {
     "iopub.execute_input": "2021-11-27T02:45:23.698343Z",
     "iopub.status.busy": "2021-11-27T02:45:23.698047Z",
     "iopub.status.idle": "2021-11-27T02:45:23.903687Z",
     "shell.execute_reply": "2021-11-27T02:45:23.902847Z",
     "shell.execute_reply.started": "2021-11-27T02:45:23.698311Z"
    },
    "scrolled": true
   },
   "outputs": [
    {
     "data": {
      "text/plain": [
       "array([[-1.99658302, -0.69424232, -0.04407492,  1.6727735 ,  0.97336551,\n",
       "        -0.24511658,  0.34706795,  0.19367894,  0.08263728,  0.33112778,\n",
       "         0.08338555, -0.54040704, -0.61829572, -0.99609892, -0.32461019,\n",
       "         1.60401384, -0.53683287,  0.24486345,  0.03076993,  0.49628203,\n",
       "         0.32611802, -0.02492336,  0.38285444, -0.17691133,  0.11050692,\n",
       "         0.24658544, -0.39217043,  0.33089162, -0.06378115,  0.24496426],\n",
       "       [-1.99658302,  0.60849633,  0.16117592,  0.1097971 ,  0.31652293,\n",
       "         0.04348335, -0.06181997, -0.06370021,  0.07125348, -0.23249419,\n",
       "        -0.15334963,  1.58000285,  1.06608857,  0.4914182 , -0.14998248,\n",
       "         0.69436042,  0.52943375, -0.13516997, -0.21876258, -0.17908605,\n",
       "        -0.08961086, -0.3073768 , -0.88007675,  0.16220118, -0.56113055,\n",
       "         0.3206939 ,  0.26106948, -0.02225568,  0.04460752, -0.34247454],\n",
       "       [-1.99656197, -0.69350046, -0.81157783,  1.16946849,  0.26823129,\n",
       "        -0.36457179,  1.35145359,  0.63977564,  0.20737273, -1.37867535,\n",
       "         0.19069961,  0.61182971,  0.06613662,  0.72069985, -0.17311389,\n",
       "         2.56290618, -3.29823537,  1.30686788, -0.14478999, -2.77856085,\n",
       "         0.68097497,  0.3376317 ,  1.06335827,  1.45631975, -1.13809214,\n",
       "        -0.62853672, -0.28844675, -0.13713686, -0.18102083,  1.16068593],\n",
       "       [-1.99656197, -0.4933249 , -0.11216942,  1.18251645, -0.60972664,\n",
       "        -0.00746888,  0.93614983,  0.19207064,  0.3160176 , -1.26250317,\n",
       "        -0.05046795, -0.22189161,  0.17837099,  0.5101687 , -0.30036049,\n",
       "        -0.68983741, -1.20929599, -0.80544464,  2.34530452, -1.51420492,\n",
       "        -0.26985523, -0.1474433 ,  0.00726691, -0.30477655, -1.94102714,\n",
       "         1.24190371, -0.46021734,  0.15539621,  0.18618859,  0.14053425],\n",
       "       [-1.99654091, -0.59132976,  0.53154105,  1.02141168,  0.2846554 ,\n",
       "        -0.29501544,  0.07199858,  0.47930228, -0.22651023,  0.74432629,\n",
       "         0.69162503, -0.80614659,  0.53862665,  1.35224435, -1.16803351,\n",
       "         0.19132347, -0.51520512, -0.27908079, -0.045569  ,  0.9870373 ,\n",
       "         0.52993879, -0.01283922,  1.10001127, -0.2201234 ,  0.23325009,\n",
       "        -0.39520164,  1.0416113 ,  0.5436198 ,  0.65181592, -0.07340334]])"
      ]
     },
     "execution_count": 11,
     "metadata": {},
     "output_type": "execute_result"
    }
   ],
   "source": [
    "X = preprocessing.StandardScaler().fit(X).transform(X)\n",
    "X[0:5]"
   ]
  },
  {
   "cell_type": "markdown",
   "metadata": {},
   "source": [
    "## Spliting Data into Train and Test Set"
   ]
  },
  {
   "cell_type": "code",
   "execution_count": 12,
   "metadata": {
    "execution": {
     "iopub.execute_input": "2021-11-27T02:45:28.234209Z",
     "iopub.status.busy": "2021-11-27T02:45:28.233901Z",
     "iopub.status.idle": "2021-11-27T02:45:28.391375Z",
     "shell.execute_reply": "2021-11-27T02:45:28.390485Z",
     "shell.execute_reply.started": "2021-11-27T02:45:28.234174Z"
    }
   },
   "outputs": [
    {
     "name": "stdout",
     "output_type": "stream",
     "text": [
      "Train set: (227845, 30) (227845,)\n",
      "Test set: (56962, 30) (56962,)\n"
     ]
    }
   ],
   "source": [
    "X_train, X_test, y_train, y_test = train_test_split( X, y, test_size=0.2, random_state=2)\n",
    "print ('Train set:', X_train.shape,  y_train.shape)\n",
    "print ('Test set:', X_test.shape,  y_test.shape)"
   ]
  },
  {
   "cell_type": "markdown",
   "metadata": {},
   "source": [
    "## Modeling"
   ]
  },
  {
   "cell_type": "markdown",
   "metadata": {},
   "source": [
    "### Logistic Regression with Scikit-learn"
   ]
  },
  {
   "cell_type": "markdown",
   "metadata": {},
   "source": [
    "**C** parameter indicates **inverse of regularization strength** which must be a positive float."
   ]
  },
  {
   "cell_type": "code",
   "execution_count": 13,
   "metadata": {
    "execution": {
     "iopub.execute_input": "2021-11-27T02:45:33.238340Z",
     "iopub.status.busy": "2021-11-27T02:45:33.237652Z",
     "iopub.status.idle": "2021-11-27T02:45:35.268544Z",
     "shell.execute_reply": "2021-11-27T02:45:35.267654Z",
     "shell.execute_reply.started": "2021-11-27T02:45:33.238291Z"
    }
   },
   "outputs": [
    {
     "data": {
      "text/plain": [
       "LogisticRegression(C=0.01, solver='liblinear')"
      ]
     },
     "execution_count": 13,
     "metadata": {},
     "output_type": "execute_result"
    }
   ],
   "source": [
    "LR = LogisticRegression(C=0.01, solver='liblinear').fit(X_train,y_train)\n",
    "LR"
   ]
  },
  {
   "cell_type": "markdown",
   "metadata": {},
   "source": [
    "Now we can predict using our test set:"
   ]
  },
  {
   "cell_type": "code",
   "execution_count": 14,
   "metadata": {
    "execution": {
     "iopub.execute_input": "2021-11-27T02:45:42.357848Z",
     "iopub.status.busy": "2021-11-27T02:45:42.357431Z",
     "iopub.status.idle": "2021-11-27T02:45:42.370958Z",
     "shell.execute_reply": "2021-11-27T02:45:42.369659Z",
     "shell.execute_reply.started": "2021-11-27T02:45:42.357818Z"
    }
   },
   "outputs": [
    {
     "data": {
      "text/plain": [
       "array([0, 0, 0, ..., 0, 0, 0])"
      ]
     },
     "execution_count": 14,
     "metadata": {},
     "output_type": "execute_result"
    }
   ],
   "source": [
    "yhat = LR.predict(X_test)\n",
    "yhat"
   ]
  },
  {
   "cell_type": "markdown",
   "metadata": {},
   "source": [
    "**predict_proba**  returns estimates for all classes, ordered by the label of classes. So, the first column is the probability of class 0, P(Y=0|X), and second column is probability of class 1, P(Y=1|X):"
   ]
  },
  {
   "cell_type": "code",
   "execution_count": 15,
   "metadata": {
    "execution": {
     "iopub.execute_input": "2021-11-27T02:45:45.873997Z",
     "iopub.status.busy": "2021-11-27T02:45:45.873426Z",
     "iopub.status.idle": "2021-11-27T02:45:45.887105Z",
     "shell.execute_reply": "2021-11-27T02:45:45.886242Z",
     "shell.execute_reply.started": "2021-11-27T02:45:45.873961Z"
    }
   },
   "outputs": [
    {
     "data": {
      "text/plain": [
       "array([[0.99687968, 0.00312032],\n",
       "       [0.99682549, 0.00317451],\n",
       "       [0.99760094, 0.00239906],\n",
       "       ...,\n",
       "       [0.99740355, 0.00259645],\n",
       "       [0.99480663, 0.00519337],\n",
       "       [0.98910047, 0.01089953]])"
      ]
     },
     "execution_count": 15,
     "metadata": {},
     "output_type": "execute_result"
    }
   ],
   "source": [
    "yhat_prob = LR.predict_proba(X_test)\n",
    "yhat_prob"
   ]
  },
  {
   "cell_type": "markdown",
   "metadata": {},
   "source": [
    "#### Accuracy Evaluation by Jaccard Index"
   ]
  },
  {
   "cell_type": "markdown",
   "metadata": {},
   "source": [
    "we can define jaccard as the size of the intersection divided by the size of the union of the two label sets. If the entire set of predicted labels for a sample strictly matches with the true set of labels, then the subset accuracy is 1.0; otherwise it is 0.0."
   ]
  },
  {
   "cell_type": "code",
   "execution_count": 16,
   "metadata": {
    "execution": {
     "iopub.execute_input": "2021-11-27T02:45:49.426607Z",
     "iopub.status.busy": "2021-11-27T02:45:49.426282Z",
     "iopub.status.idle": "2021-11-27T02:45:49.446622Z",
     "shell.execute_reply": "2021-11-27T02:45:49.445788Z",
     "shell.execute_reply.started": "2021-11-27T02:45:49.426575Z"
    }
   },
   "outputs": [
    {
     "data": {
      "text/plain": [
       "99.93"
      ]
     },
     "execution_count": 16,
     "metadata": {},
     "output_type": "execute_result"
    }
   ],
   "source": [
    "LR_AS = round(jaccard_score(y_test, yhat,pos_label=0)*100,2)\n",
    "\n",
    "LR_AS"
   ]
  },
  {
   "cell_type": "markdown",
   "metadata": {},
   "source": [
    "#### Accuracy Evaluation by Confusion Matrix"
   ]
  },
  {
   "cell_type": "markdown",
   "metadata": {},
   "source": [
    "Another way of looking at the accuracy of the classifier is to look at **confusion matrix**."
   ]
  },
  {
   "cell_type": "code",
   "execution_count": 17,
   "metadata": {
    "execution": {
     "iopub.execute_input": "2021-11-27T02:45:53.504418Z",
     "iopub.status.busy": "2021-11-27T02:45:53.504140Z",
     "iopub.status.idle": "2021-11-27T02:45:53.779447Z",
     "shell.execute_reply": "2021-11-27T02:45:53.778859Z",
     "shell.execute_reply.started": "2021-11-27T02:45:53.504388Z"
    }
   },
   "outputs": [
    {
     "name": "stdout",
     "output_type": "stream",
     "text": [
      "Confusion matrix:\n",
      " [[   53    31]\n",
      " [    8 56870]]\n"
     ]
    },
    {
     "data": {
      "image/png": "[encoded data removed]",
      "text/plain": [
       "<Figure size 432x288 with 2 Axes>"
      ]
     },
     "metadata": {
      "needs_background": "light"
     },
     "output_type": "display_data"
    }
   ],
   "source": [
    "#yhat=logreg_cv.predict(X_test)\n",
    "cm = confusion_matrix(y_test, yhat, labels=[1,0])\n",
    "print('Confusion matrix:''\\n', cm)\n",
    "disp = ConfusionMatrixDisplay(confusion_matrix=cm)\n",
    "\n",
    "disp.plot(cmap=plt.cm.Blues)\n",
    "plt.show()"
   ]
  },
  {
   "cell_type": "markdown",
   "metadata": {},
   "source": [
    "In this confusion matrix, the first row presents the negetive and second row presents the positive result. So we have a total of 56870 true positive and 8 false positive result. That explains, out of 56870+8= 56878, we have 56870 successfully classified normal transaction and 8 were falsely classified as normal but they were fraudlent."
   ]
  },
  {
   "cell_type": "markdown",
   "metadata": {},
   "source": [
    "#### Checking F1 Score"
   ]
  },
  {
   "cell_type": "code",
   "execution_count": 18,
   "metadata": {
    "execution": {
     "iopub.execute_input": "2021-11-27T02:46:02.128443Z",
     "iopub.status.busy": "2021-11-27T02:46:02.127743Z",
     "iopub.status.idle": "2021-11-27T02:46:02.193467Z",
     "shell.execute_reply": "2021-11-27T02:46:02.192465Z",
     "shell.execute_reply.started": "2021-11-27T02:46:02.128400Z"
    }
   },
   "outputs": [
    {
     "name": "stdout",
     "output_type": "stream",
     "text": [
      "              precision    recall  f1-score   support\n",
      "\n",
      "           0       1.00      1.00      1.00     56878\n",
      "           1       0.87      0.63      0.73        84\n",
      "\n",
      "    accuracy                           1.00     56962\n",
      "   macro avg       0.93      0.82      0.87     56962\n",
      "weighted avg       1.00      1.00      1.00     56962\n",
      "\n"
     ]
    }
   ],
   "source": [
    "print (classification_report(y_test, yhat))"
   ]
  },
  {
   "cell_type": "markdown",
   "metadata": {},
   "source": [
    "Based on the count of each section, we can calculate precision and recall of each label:\n",
    "\n",
    "*   **Precision** is a measure of the accuracy provided that a class label has been predicted. It is defined by: precision = TP / (TP + FP)\n",
    "\n",
    "*   **Recall** is the true positive rate. It is defined as: Recall =  TP / (TP + FN)\n",
    "\n",
    "So, we can calculate the precision and recall of each class.\n",
    "\n",
    "**F1 score:**\n",
    "Now we are in the position to calculate the F1 scores for each label based on the precision and recall of that label.\n",
    "\n",
    "The F1 score is the harmonic average of the precision and recall, where an F1 score reaches its best value at 1 (perfect precision and recall) and worst at 0. It is a good way to show that a classifer has a good value for both recall and precision.\n",
    "\n",
    "Finally, we can tell the average accuracy for this classifier is the average of the F1-score for both labels, which is 1.0 in our case."
   ]
  },
  {
   "cell_type": "markdown",
   "metadata": {},
   "source": [
    "### Decision Trees with Scikit-learn"
   ]
  },
  {
   "cell_type": "markdown",
   "metadata": {},
   "source": [
    "We will first create an instance of the **DecisionTreeClassifier** called **fraudTree**.\n",
    "    Inside of the classifier, specify  *criterion=\"entropy\"* so we can see the information gain of each node."
   ]
  },
  {
   "cell_type": "code",
   "execution_count": 19,
   "metadata": {
    "execution": {
     "iopub.execute_input": "2021-11-27T02:46:07.025490Z",
     "iopub.status.busy": "2021-11-27T02:46:07.024883Z",
     "iopub.status.idle": "2021-11-27T02:46:07.031741Z",
     "shell.execute_reply": "2021-11-27T02:46:07.031120Z",
     "shell.execute_reply.started": "2021-11-27T02:46:07.025444Z"
    }
   },
   "outputs": [
    {
     "data": {
      "text/plain": [
       "DecisionTreeClassifier(criterion='entropy', max_depth=4)"
      ]
     },
     "execution_count": 19,
     "metadata": {},
     "output_type": "execute_result"
    }
   ],
   "source": [
    "fraudTree = DecisionTreeClassifier(criterion=\"entropy\", max_depth = 4)\n",
    "fraudTree # it shows the default parameters"
   ]
  },
  {
   "cell_type": "markdown",
   "metadata": {},
   "source": [
    "Next, we will fit the data with the training feature matrix <b> X_trainset </b> and training  response vector <b> y_trainset </b>"
   ]
  },
  {
   "cell_type": "code",
   "execution_count": 20,
   "metadata": {
    "execution": {
     "iopub.execute_input": "2021-11-27T02:46:10.686940Z",
     "iopub.status.busy": "2021-11-27T02:46:10.685923Z",
     "iopub.status.idle": "2021-11-27T02:46:18.671065Z",
     "shell.execute_reply": "2021-11-27T02:46:18.670011Z",
     "shell.execute_reply.started": "2021-11-27T02:46:10.686892Z"
    }
   },
   "outputs": [
    {
     "data": {
      "text/plain": [
       "DecisionTreeClassifier(criterion='entropy', max_depth=4)"
      ]
     },
     "execution_count": 20,
     "metadata": {},
     "output_type": "execute_result"
    }
   ],
   "source": [
    "fraudTree.fit(X_train,y_train)"
   ]
  },
  {
   "cell_type": "markdown",
   "metadata": {},
   "source": [
    "Let's make some <b>predictions</b> on the testing dataset and store it into a variable called <b>predTree</b>."
   ]
  },
  {
   "cell_type": "code",
   "execution_count": 21,
   "metadata": {
    "execution": {
     "iopub.execute_input": "2021-11-27T02:46:29.217119Z",
     "iopub.status.busy": "2021-11-27T02:46:29.216792Z",
     "iopub.status.idle": "2021-11-27T02:46:29.226429Z",
     "shell.execute_reply": "2021-11-27T02:46:29.225605Z",
     "shell.execute_reply.started": "2021-11-27T02:46:29.217085Z"
    }
   },
   "outputs": [],
   "source": [
    "predTree = fraudTree.predict(X_test)"
   ]
  },
  {
   "cell_type": "markdown",
   "metadata": {},
   "source": [
    "You can print out <b>predTree</b> and <b>y_test</b> if you want to visually compare the predictions to the actual values."
   ]
  },
  {
   "cell_type": "code",
   "execution_count": 22,
   "metadata": {
    "execution": {
     "iopub.execute_input": "2021-11-27T02:46:35.874079Z",
     "iopub.status.busy": "2021-11-27T02:46:35.872984Z",
     "iopub.status.idle": "2021-11-27T02:46:35.880093Z",
     "shell.execute_reply": "2021-11-27T02:46:35.879143Z",
     "shell.execute_reply.started": "2021-11-27T02:46:35.874035Z"
    }
   },
   "outputs": [
    {
     "name": "stdout",
     "output_type": "stream",
     "text": [
      "[0 0 0 0 0]\n",
      "[0 0 0 0 0]\n"
     ]
    }
   ],
   "source": [
    "print (predTree [0:5])\n",
    "print (y_test [0:5])"
   ]
  },
  {
   "cell_type": "markdown",
   "metadata": {},
   "source": [
    "#### Accuracy Evaluation by Jaccard Index"
   ]
  },
  {
   "cell_type": "markdown",
   "metadata": {},
   "source": [
    "We can define jaccard as the size of the intersection divided by the size of the union of the two label sets. If the entire set of predicted labels for a sample strictly matches with the true set of labels, then the subset accuracy is 1.0; otherwise it is 0.0."
   ]
  },
  {
   "cell_type": "code",
   "execution_count": 23,
   "metadata": {
    "execution": {
     "iopub.execute_input": "2021-11-27T02:46:41.382957Z",
     "iopub.status.busy": "2021-11-27T02:46:41.381790Z",
     "iopub.status.idle": "2021-11-27T02:46:41.405611Z",
     "shell.execute_reply": "2021-11-27T02:46:41.405032Z",
     "shell.execute_reply.started": "2021-11-27T02:46:41.382896Z"
    }
   },
   "outputs": [
    {
     "data": {
      "text/plain": [
       "99.95"
      ]
     },
     "execution_count": 23,
     "metadata": {},
     "output_type": "execute_result"
    }
   ],
   "source": [
    "DT_AS = round(jaccard_score(y_test, predTree,pos_label=0)*100,2)\n",
    "\n",
    "DT_AS"
   ]
  },
  {
   "cell_type": "markdown",
   "metadata": {},
   "source": [
    "#### Accuracy Evaluation by Confusion Matrix"
   ]
  },
  {
   "cell_type": "markdown",
   "metadata": {},
   "source": [
    "Another way of looking at the accuracy of the classifier is to look at **confusion matrix**."
   ]
  },
  {
   "cell_type": "code",
   "execution_count": 24,
   "metadata": {
    "execution": {
     "iopub.execute_input": "2021-11-27T02:46:45.769408Z",
     "iopub.status.busy": "2021-11-27T02:46:45.768888Z",
     "iopub.status.idle": "2021-11-27T02:46:46.016574Z",
     "shell.execute_reply": "2021-11-27T02:46:46.015646Z",
     "shell.execute_reply.started": "2021-11-27T02:46:45.769369Z"
    }
   },
   "outputs": [
    {
     "name": "stdout",
     "output_type": "stream",
     "text": [
      "Confusion matrix:\n",
      " [[   66    18]\n",
      " [   11 56867]]\n"
     ]
    },
    {
     "data": {
      "image/png": "[encoded data removed]",
      "text/plain": [
       "<Figure size 432x288 with 2 Axes>"
      ]
     },
     "metadata": {
      "needs_background": "light"
     },
     "output_type": "display_data"
    }
   ],
   "source": [
    "cm = confusion_matrix(y_test, predTree, labels=[1,0])\n",
    "print('Confusion matrix:''\\n', cm)\n",
    "disp = ConfusionMatrixDisplay(confusion_matrix=cm)\n",
    "\n",
    "disp.plot(cmap=plt.cm.Blues)\n",
    "plt.show()"
   ]
  },
  {
   "cell_type": "markdown",
   "metadata": {},
   "source": [
    "In this confusion matrix, the first row presents the negetive and second row presents the positive result. So we have a total of 56867 true positive and 11 false positive result. That explains, out of 56867+11= 56878, we have 56867 successfully classified normal transaction and 11 were falsely classified as normal but they were fraudlent."
   ]
  },
  {
   "cell_type": "markdown",
   "metadata": {},
   "source": [
    "#### Checking F1 Score"
   ]
  },
  {
   "cell_type": "code",
   "execution_count": 25,
   "metadata": {
    "execution": {
     "iopub.execute_input": "2021-11-27T02:46:50.307218Z",
     "iopub.status.busy": "2021-11-27T02:46:50.306870Z",
     "iopub.status.idle": "2021-11-27T02:46:50.375623Z",
     "shell.execute_reply": "2021-11-27T02:46:50.374530Z",
     "shell.execute_reply.started": "2021-11-27T02:46:50.307181Z"
    }
   },
   "outputs": [
    {
     "name": "stdout",
     "output_type": "stream",
     "text": [
      "              precision    recall  f1-score   support\n",
      "\n",
      "           0       1.00      1.00      1.00     56878\n",
      "           1       0.86      0.79      0.82        84\n",
      "\n",
      "    accuracy                           1.00     56962\n",
      "   macro avg       0.93      0.89      0.91     56962\n",
      "weighted avg       1.00      1.00      1.00     56962\n",
      "\n"
     ]
    }
   ],
   "source": [
    "print (classification_report(y_test, predTree))"
   ]
  },
  {
   "cell_type": "markdown",
   "metadata": {},
   "source": [
    "Based on the count of each section, we can calculate precision and recall of each label:\n",
    "\n",
    "*   **Precision** is a measure of the accuracy provided that a class label has been predicted. It is defined by: precision = TP / (TP + FP)\n",
    "\n",
    "*   **Recall** is the true positive rate. It is defined as: Recall =  TP / (TP + FN)\n",
    "\n",
    "So, we can calculate the precision and recall of each class.\n",
    "\n",
    "**F1 score:**\n",
    "Now we are in the position to calculate the F1 scores for each label based on the precision and recall of that label.\n",
    "\n",
    "The F1 score is the harmonic average of the precision and recall, where an F1 score reaches its best value at 1 (perfect precision and recall) and worst at 0. It is a good way to show that a classifer has a good value for both recall and precision.\n",
    "\n",
    "Finally, we can tell the average accuracy for this classifier is the average of the F1-score for both labels, which is 1.0 in our case."
   ]
  },
  {
   "cell_type": "markdown",
   "metadata": {},
   "source": [
    "### K-Nearest-neighbours with Scikit-learn"
   ]
  },
  {
   "cell_type": "markdown",
   "metadata": {},
   "source": [
    "Let's start the training algorithm with k=4 for now:"
   ]
  },
  {
   "cell_type": "code",
   "execution_count": 26,
   "metadata": {
    "execution": {
     "iopub.execute_input": "2021-11-27T02:46:55.014206Z",
     "iopub.status.busy": "2021-11-27T02:46:55.013933Z",
     "iopub.status.idle": "2021-11-27T02:46:56.843988Z",
     "shell.execute_reply": "2021-11-27T02:46:56.843117Z",
     "shell.execute_reply.started": "2021-11-27T02:46:55.014177Z"
    }
   },
   "outputs": [
    {
     "data": {
      "text/plain": [
       "KNeighborsClassifier(n_neighbors=4)"
      ]
     },
     "execution_count": 26,
     "metadata": {},
     "output_type": "execute_result"
    }
   ],
   "source": [
    "k = 4\n",
    "#Train Model and Predict  \n",
    "neigh = KNeighborsClassifier(n_neighbors = k).fit(X_train,y_train)\n",
    "neigh"
   ]
  },
  {
   "cell_type": "markdown",
   "metadata": {},
   "source": [
    "We can use the model to make predictions on the test set:"
   ]
  },
  {
   "cell_type": "code",
   "execution_count": 27,
   "metadata": {
    "execution": {
     "iopub.execute_input": "2021-11-27T02:46:58.006685Z",
     "iopub.status.busy": "2021-11-27T02:46:58.006011Z",
     "iopub.status.idle": "2021-11-27T02:56:07.327364Z",
     "shell.execute_reply": "2021-11-27T02:56:07.326313Z",
     "shell.execute_reply.started": "2021-11-27T02:46:58.006642Z"
    }
   },
   "outputs": [
    {
     "data": {
      "text/plain": [
       "array([0, 0, 0, 0, 0])"
      ]
     },
     "execution_count": 27,
     "metadata": {},
     "output_type": "execute_result"
    }
   ],
   "source": [
    "yhat = neigh.predict(X_test)\n",
    "yhat[0:5]"
   ]
  },
  {
   "cell_type": "markdown",
   "metadata": {},
   "source": [
    "#### Accuracy Evaluation by Jaccard Index"
   ]
  },
  {
   "cell_type": "markdown",
   "metadata": {},
   "source": [
    "We can define jaccard as the size of the intersection divided by the size of the union of the two label sets. If the entire set of predicted labels for a sample strictly matches with the true set of labels, then the subset accuracy is 1.0; otherwise it is 0.0."
   ]
  },
  {
   "cell_type": "code",
   "execution_count": 28,
   "metadata": {
    "execution": {
     "iopub.execute_input": "2021-11-27T02:56:07.329493Z",
     "iopub.status.busy": "2021-11-27T02:56:07.329217Z",
     "iopub.status.idle": "2021-11-27T02:56:07.350920Z",
     "shell.execute_reply": "2021-11-27T02:56:07.350330Z",
     "shell.execute_reply.started": "2021-11-27T02:56:07.329462Z"
    }
   },
   "outputs": [
    {
     "data": {
      "text/plain": [
       "99.96"
      ]
     },
     "execution_count": 28,
     "metadata": {},
     "output_type": "execute_result"
    }
   ],
   "source": [
    "KNN_AS = round(jaccard_score(y_test, yhat,pos_label=0)*100,2)\n",
    "\n",
    "KNN_AS"
   ]
  },
  {
   "cell_type": "markdown",
   "metadata": {},
   "source": [
    "#### Accuracy Evaluation by Confusion Matrix"
   ]
  },
  {
   "cell_type": "markdown",
   "metadata": {},
   "source": [
    "Another way of looking at the accuracy of the classifier is to look at **confusion matrix**."
   ]
  },
  {
   "cell_type": "code",
   "execution_count": 29,
   "metadata": {
    "execution": {
     "iopub.execute_input": "2021-11-27T02:56:07.352620Z",
     "iopub.status.busy": "2021-11-27T02:56:07.351846Z",
     "iopub.status.idle": "2021-11-27T02:56:07.603030Z",
     "shell.execute_reply": "2021-11-27T02:56:07.602211Z",
     "shell.execute_reply.started": "2021-11-27T02:56:07.352570Z"
    }
   },
   "outputs": [
    {
     "name": "stdout",
     "output_type": "stream",
     "text": [
      "Confusion matrix:\n",
      " [[   67    17]\n",
      " [    3 56875]]\n"
     ]
    },
    {
     "data": {
      "image/png": "[encoded data removed]",
      "text/plain": [
       "<Figure size 432x288 with 2 Axes>"
      ]
     },
     "metadata": {
      "needs_background": "light"
     },
     "output_type": "display_data"
    }
   ],
   "source": [
    "cm = confusion_matrix(y_test, yhat, labels=[1,0])\n",
    "print('Confusion matrix:''\\n', cm)\n",
    "disp = ConfusionMatrixDisplay(confusion_matrix=cm)\n",
    "\n",
    "disp.plot(cmap=plt.cm.Blues)\n",
    "plt.show()"
   ]
  },
  {
   "cell_type": "markdown",
   "metadata": {},
   "source": [
    "In this confusion matrix, the first row presents the negetive and second row presents the positive result. So we have a total of 56875 true positive and 3 false positive result. That explains, out of 56875+3= 56878, we have 56875 successfully classified normal transaction and 3 were falsely classified as normal but they were fraudlent."
   ]
  },
  {
   "cell_type": "markdown",
   "metadata": {},
   "source": [
    "#### Checking F1 Score"
   ]
  },
  {
   "cell_type": "code",
   "execution_count": 30,
   "metadata": {
    "execution": {
     "iopub.execute_input": "2021-11-27T03:09:30.570385Z",
     "iopub.status.busy": "2021-11-27T03:09:30.570068Z",
     "iopub.status.idle": "2021-11-27T03:09:30.635517Z",
     "shell.execute_reply": "2021-11-27T03:09:30.634403Z",
     "shell.execute_reply.started": "2021-11-27T03:09:30.570344Z"
    }
   },
   "outputs": [
    {
     "name": "stdout",
     "output_type": "stream",
     "text": [
      "              precision    recall  f1-score   support\n",
      "\n",
      "           0       1.00      1.00      1.00     56878\n",
      "           1       0.96      0.80      0.87        84\n",
      "\n",
      "    accuracy                           1.00     56962\n",
      "   macro avg       0.98      0.90      0.93     56962\n",
      "weighted avg       1.00      1.00      1.00     56962\n",
      "\n"
     ]
    }
   ],
   "source": [
    "print (classification_report(y_test, yhat))"
   ]
  },
  {
   "cell_type": "markdown",
   "metadata": {},
   "source": [
    "Based on the count of each section, we can calculate precision and recall of each label:\n",
    "\n",
    "*   **Precision** is a measure of the accuracy provided that a class label has been predicted. It is defined by: precision = TP / (TP + FP)\n",
    "\n",
    "*   **Recall** is the true positive rate. It is defined as: Recall =  TP / (TP + FN)\n",
    "\n",
    "So, we can calculate the precision and recall of each class.\n",
    "\n",
    "**F1 score:**\n",
    "Now we are in the position to calculate the F1 scores for each label based on the precision and recall of that label.\n",
    "\n",
    "The F1 score is the harmonic average of the precision and recall, where an F1 score reaches its best value at 1 (perfect precision and recall) and worst at 0. It is a good way to show that a classifer has a good value for both recall and precision.\n",
    "\n",
    "Finally, we can tell the average accuracy for this classifier is the average of the F1-score for both labels, which is 1.0 in our case."
   ]
  },
  {
   "cell_type": "markdown",
   "metadata": {},
   "source": [
    "### Support Vector Machine with Scikit-learn"
   ]
  },
  {
   "cell_type": "markdown",
   "metadata": {},
   "source": [
    "Let's start with Radial Basis Function (RBF) kernel."
   ]
  },
  {
   "cell_type": "code",
   "execution_count": 31,
   "metadata": {
    "execution": {
     "iopub.execute_input": "2021-11-27T03:09:36.722202Z",
     "iopub.status.busy": "2021-11-27T03:09:36.721372Z",
     "iopub.status.idle": "2021-11-27T03:22:29.448416Z",
     "shell.execute_reply": "2021-11-27T03:22:29.447453Z",
     "shell.execute_reply.started": "2021-11-27T03:09:36.722152Z"
    }
   },
   "outputs": [
    {
     "data": {
      "text/plain": [
       "SVC()"
      ]
     },
     "execution_count": 31,
     "metadata": {},
     "output_type": "execute_result"
    }
   ],
   "source": [
    "clf = svm.SVC(kernel='rbf')\n",
    "clf.fit(X_train, y_train) "
   ]
  },
  {
   "cell_type": "markdown",
   "metadata": {},
   "source": [
    "After being fitted, the model can then be used to predict new values:"
   ]
  },
  {
   "cell_type": "code",
   "execution_count": 32,
   "metadata": {
    "execution": {
     "iopub.execute_input": "2021-11-27T03:22:29.450887Z",
     "iopub.status.busy": "2021-11-27T03:22:29.450550Z",
     "iopub.status.idle": "2021-11-27T03:22:41.155156Z",
     "shell.execute_reply": "2021-11-27T03:22:41.154320Z",
     "shell.execute_reply.started": "2021-11-27T03:22:29.450844Z"
    }
   },
   "outputs": [
    {
     "data": {
      "text/plain": [
       "array([0, 0, 0, 0, 0])"
      ]
     },
     "execution_count": 32,
     "metadata": {},
     "output_type": "execute_result"
    }
   ],
   "source": [
    "yhat = clf.predict(X_test)\n",
    "yhat [0:5]"
   ]
  },
  {
   "cell_type": "markdown",
   "metadata": {},
   "source": [
    "#### Accuracy Evaluation by Jaccard Index"
   ]
  },
  {
   "cell_type": "markdown",
   "metadata": {},
   "source": [
    "We can define jaccard as the size of the intersection divided by the size of the union of the two label sets. If the entire set of predicted labels for a sample strictly matches with the true set of labels, then the subset accuracy is 1.0; otherwise it is 0.0."
   ]
  },
  {
   "cell_type": "code",
   "execution_count": 33,
   "metadata": {
    "execution": {
     "iopub.execute_input": "2021-11-27T03:22:41.157231Z",
     "iopub.status.busy": "2021-11-27T03:22:41.156575Z",
     "iopub.status.idle": "2021-11-27T03:22:41.178111Z",
     "shell.execute_reply": "2021-11-27T03:22:41.177205Z",
     "shell.execute_reply.started": "2021-11-27T03:22:41.157198Z"
    }
   },
   "outputs": [
    {
     "data": {
      "text/plain": [
       "99.96"
      ]
     },
     "execution_count": 33,
     "metadata": {},
     "output_type": "execute_result"
    }
   ],
   "source": [
    "SVM_AS = round(jaccard_score(y_test, yhat,pos_label=0)*100,2)\n",
    "\n",
    "SVM_AS"
   ]
  },
  {
   "cell_type": "markdown",
   "metadata": {},
   "source": [
    "#### Accuracy Evaluation by Confusion Matrix"
   ]
  },
  {
   "cell_type": "markdown",
   "metadata": {},
   "source": [
    "Another way of looking at the accuracy of the classifier is to look at **confusion matrix**."
   ]
  },
  {
   "cell_type": "code",
   "execution_count": 34,
   "metadata": {
    "execution": {
     "iopub.execute_input": "2021-11-27T03:09:27.557313Z",
     "iopub.status.busy": "2021-11-27T03:09:27.556909Z",
     "iopub.status.idle": "2021-11-27T03:09:27.803071Z",
     "shell.execute_reply": "2021-11-27T03:09:27.802134Z",
     "shell.execute_reply.started": "2021-11-27T03:09:27.557269Z"
    }
   },
   "outputs": [
    {
     "name": "stdout",
     "output_type": "stream",
     "text": [
      "Confusion matrix:\n",
      " [[   64    20]\n",
      " [    4 56874]]\n"
     ]
    },
    {
     "data": {
      "image/png": "[encoded data removed]",
      "text/plain": [
       "<Figure size 432x288 with 2 Axes>"
      ]
     },
     "metadata": {
      "needs_background": "light"
     },
     "output_type": "display_data"
    }
   ],
   "source": [
    "cm = confusion_matrix(y_test, yhat, labels=[1,0])\n",
    "print('Confusion matrix:''\\n', cm)\n",
    "disp = ConfusionMatrixDisplay(confusion_matrix=cm)\n",
    "\n",
    "disp.plot(cmap=plt.cm.Blues)\n",
    "plt.show()"
   ]
  },
  {
   "cell_type": "markdown",
   "metadata": {},
   "source": [
    "In this confusion matrix, the first row presents the negetive and second row presents the positive result. So we have a total of 56874 true positive and 4 false positive result. That explains, out of 56874+4= 56878, we have 56874 successfully classified normal transaction and 4 were falsely classified as normal but they were fraudlent."
   ]
  },
  {
   "cell_type": "markdown",
   "metadata": {},
   "source": [
    "#### Checking F1 Score"
   ]
  },
  {
   "cell_type": "code",
   "execution_count": 35,
   "metadata": {
    "execution": {
     "iopub.execute_input": "2021-11-27T03:22:41.179956Z",
     "iopub.status.busy": "2021-11-27T03:22:41.179736Z",
     "iopub.status.idle": "2021-11-27T03:22:41.246430Z",
     "shell.execute_reply": "2021-11-27T03:22:41.245721Z",
     "shell.execute_reply.started": "2021-11-27T03:22:41.179930Z"
    }
   },
   "outputs": [
    {
     "name": "stdout",
     "output_type": "stream",
     "text": [
      "              precision    recall  f1-score   support\n",
      "\n",
      "           0       1.00      1.00      1.00     56878\n",
      "           1       0.94      0.76      0.84        84\n",
      "\n",
      "    accuracy                           1.00     56962\n",
      "   macro avg       0.97      0.88      0.92     56962\n",
      "weighted avg       1.00      1.00      1.00     56962\n",
      "\n"
     ]
    }
   ],
   "source": [
    "print (classification_report(y_test, yhat))"
   ]
  },
  {
   "cell_type": "markdown",
   "metadata": {},
   "source": [
    "Based on the count of each section, we can calculate precision and recall of each label:\n",
    "\n",
    "*   **Precision** is a measure of the accuracy provided that a class label has been predicted. It is defined by: precision = TP / (TP + FP)\n",
    "\n",
    "*   **Recall** is the true positive rate. It is defined as: Recall =  TP / (TP + FN)\n",
    "\n",
    "So, we can calculate the precision and recall of each class.\n",
    "\n",
    "**F1 score:**\n",
    "Now we are in the position to calculate the F1 scores for each label based on the precision and recall of that label.\n",
    "\n",
    "The F1 score is the harmonic average of the precision and recall, where an F1 score reaches its best value at 1 (perfect precision and recall) and worst at 0. It is a good way to show that a classifer has a good value for both recall and precision.\n",
    "\n",
    "Finally, we can tell the average accuracy for this classifier is the average of the F1-score for both labels, which is 1.0 in our case."
   ]
  },
  {
   "cell_type": "markdown",
   "metadata": {},
   "source": [
    "### Random Forest with Scikit-learn"
   ]
  },
  {
   "cell_type": "markdown",
   "metadata": {},
   "source": [
    "Initialize the Random Forest"
   ]
  },
  {
   "cell_type": "code",
   "execution_count": 36,
   "metadata": {
    "execution": {
     "iopub.execute_input": "2021-11-27T03:29:08.474568Z",
     "iopub.status.busy": "2021-11-27T03:29:08.474206Z",
     "iopub.status.idle": "2021-11-27T03:33:45.921451Z",
     "shell.execute_reply": "2021-11-27T03:33:45.920509Z",
     "shell.execute_reply.started": "2021-11-27T03:29:08.474532Z"
    }
   },
   "outputs": [
    {
     "data": {
      "text/plain": [
       "RandomForestClassifier()"
      ]
     },
     "execution_count": 36,
     "metadata": {},
     "output_type": "execute_result"
    }
   ],
   "source": [
    "RF = RandomForestClassifier()\n",
    "\n",
    "#Train the model using Training Dataset\n",
    "RF.fit(X_train, y_train)"
   ]
  },
  {
   "cell_type": "markdown",
   "metadata": {},
   "source": [
    "After being fitted, the model can then be used to predict new values:"
   ]
  },
  {
   "cell_type": "code",
   "execution_count": 37,
   "metadata": {
    "execution": {
     "iopub.execute_input": "2021-11-27T03:33:45.923222Z",
     "iopub.status.busy": "2021-11-27T03:33:45.922946Z",
     "iopub.status.idle": "2021-11-27T03:33:46.541795Z",
     "shell.execute_reply": "2021-11-27T03:33:46.541106Z",
     "shell.execute_reply.started": "2021-11-27T03:33:45.923192Z"
    }
   },
   "outputs": [
    {
     "data": {
      "text/plain": [
       "array([0, 0, 0, 0, 0])"
      ]
     },
     "execution_count": 37,
     "metadata": {},
     "output_type": "execute_result"
    }
   ],
   "source": [
    "yhat = RF.predict(X_test)\n",
    "yhat [0:5]"
   ]
  },
  {
   "cell_type": "markdown",
   "metadata": {},
   "source": [
    "#### Accuracy Evaluation by Jaccard Index"
   ]
  },
  {
   "cell_type": "markdown",
   "metadata": {},
   "source": [
    "We can define jaccard as the size of the intersection divided by the size of the union of the two label sets. If the entire set of predicted labels for a sample strictly matches with the true set of labels, then the subset accuracy is 1.0; otherwise it is 0.0."
   ]
  },
  {
   "cell_type": "code",
   "execution_count": 38,
   "metadata": {
    "execution": {
     "iopub.execute_input": "2021-11-27T03:33:46.543241Z",
     "iopub.status.busy": "2021-11-27T03:33:46.542863Z",
     "iopub.status.idle": "2021-11-27T03:33:46.564156Z",
     "shell.execute_reply": "2021-11-27T03:33:46.563281Z",
     "shell.execute_reply.started": "2021-11-27T03:33:46.543210Z"
    }
   },
   "outputs": [
    {
     "data": {
      "text/plain": [
       "99.96"
      ]
     },
     "execution_count": 38,
     "metadata": {},
     "output_type": "execute_result"
    }
   ],
   "source": [
    "RF_AS = round(jaccard_score(y_test, yhat,pos_label=0)*100,2)\n",
    "RF_AS\n"
   ]
  },
  {
   "cell_type": "markdown",
   "metadata": {},
   "source": [
    "#### Accuracy Evaluation by Confusion Matrix"
   ]
  },
  {
   "cell_type": "markdown",
   "metadata": {},
   "source": [
    "Another way of looking at the accuracy of the classifier is to look at **confusion matrix**."
   ]
  },
  {
   "cell_type": "code",
   "execution_count": 39,
   "metadata": {
    "execution": {
     "iopub.execute_input": "2021-11-27T03:33:46.566084Z",
     "iopub.status.busy": "2021-11-27T03:33:46.565780Z",
     "iopub.status.idle": "2021-11-27T03:33:46.810840Z",
     "shell.execute_reply": "2021-11-27T03:33:46.809914Z",
     "shell.execute_reply.started": "2021-11-27T03:33:46.566052Z"
    }
   },
   "outputs": [
    {
     "name": "stdout",
     "output_type": "stream",
     "text": [
      "Confusion matrix:\n",
      " [[   69    15]\n",
      " [    5 56873]]\n"
     ]
    },
    {
     "data": {
      "image/png": "[encoded data removed]",
      "text/plain": [
       "<Figure size 432x288 with 2 Axes>"
      ]
     },
     "metadata": {
      "needs_background": "light"
     },
     "output_type": "display_data"
    }
   ],
   "source": [
    "cm = confusion_matrix(y_test, yhat, labels=[1,0])\n",
    "print('Confusion matrix:''\\n', cm)\n",
    "disp = ConfusionMatrixDisplay(confusion_matrix=cm)\n",
    "\n",
    "disp.plot(cmap=plt.cm.Blues)\n",
    "plt.show()"
   ]
  },
  {
   "cell_type": "markdown",
   "metadata": {},
   "source": [
    "In this confusion matrix, the first row presents the negetive and second row presents the positive result. So we have a total of 56873 true positive and 5 false positive result. That explains, out of 56873+5= 56878, we have 56873 successfully classified normal transaction and 5 were falsely classified as normal but they were fraudlent."
   ]
  },
  {
   "cell_type": "markdown",
   "metadata": {},
   "source": [
    "#### Checking F1 Score"
   ]
  },
  {
   "cell_type": "code",
   "execution_count": 40,
   "metadata": {
    "execution": {
     "iopub.execute_input": "2021-11-27T03:33:46.812357Z",
     "iopub.status.busy": "2021-11-27T03:33:46.811986Z",
     "iopub.status.idle": "2021-11-27T03:33:46.878175Z",
     "shell.execute_reply": "2021-11-27T03:33:46.877540Z",
     "shell.execute_reply.started": "2021-11-27T03:33:46.812310Z"
    }
   },
   "outputs": [
    {
     "name": "stdout",
     "output_type": "stream",
     "text": [
      "              precision    recall  f1-score   support\n",
      "\n",
      "           0       1.00      1.00      1.00     56878\n",
      "           1       0.93      0.82      0.87        84\n",
      "\n",
      "    accuracy                           1.00     56962\n",
      "   macro avg       0.97      0.91      0.94     56962\n",
      "weighted avg       1.00      1.00      1.00     56962\n",
      "\n"
     ]
    }
   ],
   "source": [
    "print (classification_report(y_test, yhat))"
   ]
  },
  {
   "cell_type": "markdown",
   "metadata": {},
   "source": [
    "Based on the count of each section, we can calculate precision and recall of each label:\n",
    "\n",
    "*   **Precision** is a measure of the accuracy provided that a class label has been predicted. It is defined by: precision = TP / (TP + FP)\n",
    "\n",
    "*   **Recall** is the true positive rate. It is defined as: Recall =  TP / (TP + FN)\n",
    "\n",
    "So, we can calculate the precision and recall of each class.\n",
    "\n",
    "**F1 score:**\n",
    "Now we are in the position to calculate the F1 scores for each label based on the precision and recall of that label.\n",
    "\n",
    "The F1 score is the harmonic average of the precision and recall, where an F1 score reaches its best value at 1 (perfect precision and recall) and worst at 0. It is a good way to show that a classifer has a good value for both recall and precision.\n",
    "\n",
    "Finally, we can tell the average accuracy for this classifier is the average of the F1-score for both labels, which is 1.0 in our case."
   ]
  },
  {
   "cell_type": "markdown",
   "metadata": {},
   "source": [
    "## Best Performed Method"
   ]
  },
  {
   "cell_type": "code",
   "execution_count": 41,
   "metadata": {
    "execution": {
     "iopub.execute_input": "2021-11-27T03:34:28.860496Z",
     "iopub.status.busy": "2021-11-27T03:34:28.860026Z",
     "iopub.status.idle": "2021-11-27T03:34:28.873834Z",
     "shell.execute_reply": "2021-11-27T03:34:28.873204Z",
     "shell.execute_reply.started": "2021-11-27T03:34:28.860463Z"
    }
   },
   "outputs": [
    {
     "data": {
      "text/html": [
       "<div>\n",
       "<style scoped>\n",
       "    .dataframe tbody tr th:only-of-type {\n",
       "        vertical-align: middle;\n",
       "    }\n",
       "\n",
       "    .dataframe tbody tr th {\n",
       "        vertical-align: top;\n",
       "    }\n",
       "\n",
       "    .dataframe thead th {\n",
       "        text-align: right;\n",
       "    }\n",
       "</style>\n",
       "<table border=\"1\" class=\"dataframe\">\n",
       "  <thead>\n",
       "    <tr style=\"text-align: right;\">\n",
       "      <th></th>\n",
       "      <th>Models</th>\n",
       "      <th>Accuracy_Score</th>\n",
       "    </tr>\n",
       "  </thead>\n",
       "  <tbody>\n",
       "    <tr>\n",
       "      <th>2</th>\n",
       "      <td>K-Nearest-neighbours (KNN)</td>\n",
       "      <td>99.96</td>\n",
       "    </tr>\n",
       "    <tr>\n",
       "      <th>3</th>\n",
       "      <td>Support Vector Machine (SVM)</td>\n",
       "      <td>99.96</td>\n",
       "    </tr>\n",
       "    <tr>\n",
       "      <th>4</th>\n",
       "      <td>Random Forest</td>\n",
       "      <td>99.96</td>\n",
       "    </tr>\n",
       "    <tr>\n",
       "      <th>1</th>\n",
       "      <td>Decision Trees</td>\n",
       "      <td>99.95</td>\n",
       "    </tr>\n",
       "    <tr>\n",
       "      <th>0</th>\n",
       "      <td>Logistic Regression</td>\n",
       "      <td>99.93</td>\n",
       "    </tr>\n",
       "  </tbody>\n",
       "</table>\n",
       "</div>"
      ],
      "text/plain": [
       "                         Models  Accuracy_Score\n",
       "2    K-Nearest-neighbours (KNN)           99.96\n",
       "3  Support Vector Machine (SVM)           99.96\n",
       "4                 Random Forest           99.96\n",
       "1                Decision Trees           99.95\n",
       "0           Logistic Regression           99.93"
      ]
     },
     "execution_count": 41,
     "metadata": {},
     "output_type": "execute_result"
    }
   ],
   "source": [
    "BPM = pd.DataFrame({\n",
    "    'Models': ['Logistic Regression', 'Decision Trees','K-Nearest-neighbours (KNN)', \n",
    "               'Support Vector Machine (SVM)', 'Random Forest'],\n",
    "    'Accuracy_Score': [LR_AS, DT_AS, KNN_AS, SVM_AS, RF_AS]})\n",
    "\n",
    "BPM.sort_values(by='Accuracy_Score', ascending=False)"
   ]
  },
  {
   "cell_type": "markdown",
   "metadata": {},
   "source": [
    "## Conclusion"
   ]
  },
  {
   "cell_type": "markdown",
   "metadata": {},
   "source": [
    "*   We found **0.17%** Fraud Transaction were occured.\n",
    "*   We found **99.96%** accuracy score for **Random Forest**. \n",
    " "
   ]
  },
  {
   "cell_type": "markdown",
   "metadata": {},
   "source": [
    "# Thank you very much for reading this NoteBook. Please share your comments and suggestions for improving more."
   ]
  },
  {
   "cell_type": "code",
   "execution_count": null,
   "metadata": {},
   "outputs": [],
   "source": []
  }
 ],
 "metadata": {
  "kernelspec": {
   "display_name": "Python 3 (ipykernel)",
   "language": "python",
   "name": "python3"
  },
  "language_info": {
   "codemirror_mode": {
    "name": "ipython",
    "version": 3
   },
   "file_extension": ".py",
   "mimetype": "text/x-python",
   "name": "python",
   "nbconvert_exporter": "python",
   "pygments_lexer": "ipython3",
   "version": "3.8.12"
  }
 },
 "nbformat": 4,
 "nbformat_minor": 4
}
